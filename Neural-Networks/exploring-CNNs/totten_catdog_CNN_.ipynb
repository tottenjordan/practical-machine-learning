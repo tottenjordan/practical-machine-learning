﻿{
  "nbformat": 4,
  "nbformat_minor": 0,
  "metadata": {
    "colab": {
      "name": "totten_catdog_CNN_.ipynb",
      "version": "0.3.2",
      "provenance": [],
      "collapsed_sections": [
        "G4BRtUg9q3Vv",
        "gsSjK0Gxrva5",
        "tP-HCqx2r5LF",
        "lkPh5s96sHFF",
        "wE4YNB9-tU3C",
        "6FyCUmuys54l",
        "yQB3NMIOtOtk",
        "vnuRyqXyta36",
        "OJZAFHrGS0uO",
        "kGNSSBiMRv9O",
        "H7nCHjX2SdlZ",
        "jHvRRyhuShNi",
        "EBpjd6yrS75J",
        "bhMzIcvxTDU6",
        "0IlPIRJqTV7_",
        "DeWwDOUlQrzN",
        "YMMZimMjTc91",
        "9mFUcgsiT2fn",
        "InT9NdxO5-5K",
        "uln13_3mOIlh",
        "mr4VYndHOLt3"
      ]
    },
    "kernelspec": {
      "name": "python3",
      "display_name": "Python 3"
    },
    "accelerator": "GPU"
  },
  "cells": [
    {
      "metadata": {
        "id": "sDkftEqJqF3T",
        "colab_type": "code",
        "colab": {
          "base_uri": "https://localhost:8080/",
          "height": 35
        },
        "outputId": "847a2b20-8694-406e-f794-aa610cd0c184"
      },
      "cell_type": "code",
      "source": [
        "from google.colab import drive\n",
        "drive.mount('/content/drive')"
      ],
      "execution_count": 88,
      "outputs": [
        {
          "output_type": "stream",
          "text": [
            "Drive already mounted at /content/drive; to attempt to forcibly remount, call drive.mount(\"/content/drive\", force_remount=True).\n"
          ],
          "name": "stdout"
        }
      ]
    },
    {
      "metadata": {
        "id": "Ea41etokqO0-",
        "colab_type": "code",
        "colab": {
          "base_uri": "https://localhost:8080/",
          "height": 106
        },
        "outputId": "98eec25d-59bc-406d-cc16-05af778385f2"
      },
      "cell_type": "code",
      "source": [
        "!pip install tflearn\n",
        "import os\n",
        "import pandas as pd\n",
        "import numpy as np\n",
        "\n",
        "from __future__ import division, print_function, unicode_literals\n",
        "import tensorflow as tf\n",
        "import zipfile\n",
        "from tqdm import tqdm\n",
        "# Working with images\n",
        "import cv2\n",
        "\n",
        "# Display Images\n",
        "from PIL import Image, ImageFilter\n",
        "\n",
        "# IPython display\n",
        "from IPython.display import display"
      ],
      "execution_count": 89,
      "outputs": [
        {
          "output_type": "stream",
          "text": [
            "Requirement already satisfied: tflearn in /usr/local/lib/python3.6/dist-packages (0.3.2)\n",
            "Requirement already satisfied: six in /usr/local/lib/python3.6/dist-packages (from tflearn) (1.11.0)\n",
            "Requirement already satisfied: Pillow in /usr/local/lib/python3.6/dist-packages (from tflearn) (4.0.0)\n",
            "Requirement already satisfied: numpy in /usr/local/lib/python3.6/dist-packages (from tflearn) (1.14.6)\n",
            "Requirement already satisfied: olefile in /usr/local/lib/python3.6/dist-packages (from Pillow->tflearn) (0.46)\n"
          ],
          "name": "stdout"
        }
      ]
    },
    {
      "metadata": {
        "id": "G4BRtUg9q3Vv",
        "colab_type": "text"
      },
      "cell_type": "markdown",
      "source": [
        "# **Data Import 1** \n",
        "\n",
        "Import 2,000 images: 1,000 cat, 1,000 dog"
      ]
    },
    {
      "metadata": {
        "id": "GtlUdr5yq8hE",
        "colab_type": "code",
        "colab": {}
      },
      "cell_type": "code",
      "source": [
        "RANDOM_SEED = 42\n",
        "\n",
        "IMG_WIDTH = 50\n",
        "IMG_HEIGHT = 50\n",
        "IMG_CHANNELS = 1\n",
        "\n",
        "n_inputs = IMG_WIDTH * IMG_HEIGHT * IMG_CHANNELS\n",
        "\n",
        "# To make output stable across runs\n",
        "def reset_graph(seed= RANDOM_SEED):\n",
        "    tf.reset_default_graph()\n",
        "    tf.set_random_seed(seed)\n",
        "    np.random.seed(seed)\n",
        "    \n",
        "def label_img(img_name):\n",
        "  if 'cat.' in img_name: return 0\n",
        "  elif 'dog.' in img_name: return 1"
      ],
      "execution_count": 0,
      "outputs": []
    },
    {
      "metadata": {
        "id": "WtEs9Z3orDk3",
        "colab_type": "code",
        "colab": {
          "base_uri": "https://localhost:8080/",
          "height": 35
        },
        "outputId": "15113dc9-cddf-4fa0-8d55-203ef497edb4"
      },
      "cell_type": "code",
      "source": [
        "training_data = []\n",
        "\n",
        "with zipfile.ZipFile(\"/content/drive/My Drive/Colab Notebooks/Data/cats_v_dogs/cats_dogs_images.zip\", 'r') as z:\n",
        "  for fn in tqdm(z.namelist()):\n",
        "    if not os.path.isdir(fn) and fn.endswith(\"jpg\"):\n",
        "\n",
        "      label = label_img(fn)\n",
        "\n",
        "      img_str = z.read(fn)\n",
        "\n",
        "      nparr = np.frombuffer(img_str, np.uint8)\n",
        "\n",
        "      img_np = cv2.imdecode(nparr, cv2.IMREAD_GRAYSCALE)\n",
        "\n",
        "      img = cv2.resize(img_np, (IMG_WIDTH, IMG_HEIGHT))\n",
        "\n",
        "      training_data.append([ np.array(img), np.array(label)])\n",
        "      #print (label)"
      ],
      "execution_count": 5,
      "outputs": [
        {
          "output_type": "stream",
          "text": [
            "100%|██████████| 2001/2001 [00:04<00:00, 500.20it/s]\n"
          ],
          "name": "stderr"
        }
      ]
    },
    {
      "metadata": {
        "id": "t_xCp9QJrVBE",
        "colab_type": "code",
        "colab": {}
      },
      "cell_type": "code",
      "source": [
        "from matplotlib import pyplot as plt  # for display of images\n",
        "from IPython.display import clear_output, Image, display, HTML\n",
        "import datetime\n",
        "\n",
        "def show_grayscale_image(image):\n",
        "    plt.imshow(image, cmap='gray')\n",
        "    plt.axis('off')\n",
        "    plt.show()\n",
        "# Examine first cat and first dog grayscale images\n",
        "#show_grayscale_image(cats_1000_64_64_1[0,:,:,0])\n",
        "#show_grayscale_image(dogs_1000_64_64_1[0,:,:,0])\n",
        "\n",
        "def plot_image(image):\n",
        "    plt.imshow(image, cmap=\"gray\", interpolation=\"bicubic\")\n",
        "    plt.axis(\"off\")\n",
        "\n",
        "def plot_color_image(image):\n",
        "    plt.imshow(image.astype(np.uint8),interpolation=\"bicubic\")\n",
        "    plt.axis(\"off\")"
      ],
      "execution_count": 0,
      "outputs": []
    },
    {
      "metadata": {
        "id": "DGZL---Brhzp",
        "colab_type": "code",
        "colab": {}
      },
      "cell_type": "code",
      "source": [
        "# suffle training data\n",
        "def shuffle_batch(X1, y1, batch_size):\n",
        "    rnd_idx = np.random.permutation(len(X1))\n",
        "    n_batches = len(X1) // batch_size \n",
        "    for batch_idx in np.array_split(rnd_idx, n_batches):\n",
        "        X_batch, y_batch = X1[batch_idx], y1[batch_idx]\n",
        "        yield X_batch, y_batch"
      ],
      "execution_count": 0,
      "outputs": []
    },
    {
      "metadata": {
        "id": "0IqjdjZSrnpF",
        "colab_type": "text"
      },
      "cell_type": "markdown",
      "source": [
        "View and image"
      ]
    },
    {
      "metadata": {
        "id": "C0YHmdDwrqOp",
        "colab_type": "code",
        "colab": {
          "base_uri": "https://localhost:8080/",
          "height": 348
        },
        "outputId": "54fa41aa-f73c-4c75-87fb-d8653b434964"
      },
      "cell_type": "code",
      "source": [
        "plot_image(training_data[0][0])"
      ],
      "execution_count": 9,
      "outputs": [
        {
          "output_type": "display_data",
          "data": {
            "image/png": "[encoded data removed]",
            "text/plain": [
              "<matplotlib.figure.Figure at 0x7f21d07a4f98>"
            ]
          },
          "metadata": {
            "tags": []
          }
        }
      ]
    },
    {
      "metadata": {
        "id": "gsSjK0Gxrva5",
        "colab_type": "text"
      },
      "cell_type": "markdown",
      "source": [
        "### **Train-Test Split 2,000 images**"
      ]
    },
    {
      "metadata": {
        "id": "YSofsgprrulv",
        "colab_type": "code",
        "colab": {}
      },
      "cell_type": "code",
      "source": [
        "from sklearn.model_selection import train_test_split\n",
        "from random import shuffle \n",
        "\n",
        "shuffle(training_data)\n",
        "\n",
        "train = training_data[:-600]\n",
        "test = training_data[-600:]\n",
        "\n",
        "X_train = np.array([i[0] for i in train]).astype(np.float32).reshape(-1, IMG_WIDTH, IMG_HEIGHT, 1)\n",
        "y_train = np.array([i[1] for i in train]).astype(np.int32)\n",
        "\n",
        "X_test = np.array([i[0] for i in test]).astype(np.float32).reshape(-1, IMG_WIDTH, IMG_HEIGHT, 1)\n",
        "y_test = np.array([i[1] for i in test]).astype(np.int32)"
      ],
      "execution_count": 0,
      "outputs": []
    },
    {
      "metadata": {
        "id": "tP-HCqx2r5LF",
        "colab_type": "text"
      },
      "cell_type": "markdown",
      "source": [
        "# **Model Series A**\n",
        "\n",
        "2,000 50x50 grayscale images "
      ]
    },
    {
      "metadata": {
        "id": "lkPh5s96sHFF",
        "colab_type": "text"
      },
      "cell_type": "markdown",
      "source": [
        "## **Model 1.A**"
      ]
    },
    {
      "metadata": {
        "id": "2ArCHzM9sQ3O",
        "colab_type": "code",
        "colab": {}
      },
      "cell_type": "code",
      "source": [
        "conv1_fmaps = 10 \n",
        "conv1_ksize = [5,5]\n",
        "conv1_stride = 1\n",
        "conv1_pad = \"SAME\"\n",
        "\n",
        "conv2_fmaps = 20\n",
        "conv2_ksize = [5,5]\n",
        "conv2_stride = 2\n",
        "conv2_pad = \"SAME\"\n",
        "\n",
        "pool3_fmaps = conv2_fmaps\n",
        "n_fc1 = 50\n",
        "n_outputs = 2"
      ],
      "execution_count": 0,
      "outputs": []
    },
    {
      "metadata": {
        "id": "w5Mpxp2Essko",
        "colab_type": "code",
        "colab": {}
      },
      "cell_type": "code",
      "source": [
        "reset_graph()\n",
        "\n",
        "with tf.name_scope(\"inputs\"):\n",
        "    X = tf.placeholder(tf.float32, shape=[None, n_inputs], name=\"X\")\n",
        "    X_reshaped = tf.reshape(X, shape=[-1, IMG_WIDTH, IMG_HEIGHT,1])\n",
        "    y = tf.placeholder(tf.int32, shape=[None], name=\"y\")\n",
        "\n",
        "conv1 = tf.layers.conv2d(X_reshaped, filters=conv1_fmaps, kernel_size=conv1_ksize,\n",
        "                         strides=conv1_stride, padding=conv1_pad,\n",
        "                         activation=tf.nn.relu, name=\"conv1\")\n",
        "\n",
        "conv2 = tf.layers.conv2d(conv1, filters=conv2_fmaps, kernel_size=conv2_ksize,\n",
        "                         strides=conv2_stride, padding=conv2_pad,\n",
        "                         activation=tf.nn.relu, name=\"conv2\")\n",
        "                         \n",
        "with tf.name_scope(\"pool3\"):\n",
        "    pool3 = tf.nn.max_pool(conv2, ksize=[1, 2, 2, 1], strides=[1, 2, 2, 1], padding=\"VALID\")\n",
        "    pool3_flat = tf.reshape(pool3, shape=[-1, pool3_fmaps * 12 * 12])\n",
        "    #pool3_flat = tf.reshape(pool3, shape=[-1, pool3_fmaps * 1 * 1])\n",
        "    \n",
        "with tf.name_scope(\"fc1\"):\n",
        "    fc1 = tf.layers.dense(pool3_flat, n_fc1, activation=tf.nn.relu, name=\"fc1\")\n",
        "    \n",
        "with tf.name_scope(\"output\"):\n",
        "    logits = tf.layers.dense(fc1, n_outputs, name=\"output\")\n",
        "    Y_proba = tf.nn.softmax(logits, name=\"Y_proba\")\n",
        "    \n",
        "with tf.name_scope(\"train\"):\n",
        "    xentropy = tf.nn.sparse_softmax_cross_entropy_with_logits(logits=logits, labels=y)\n",
        "    loss = tf.reduce_mean(xentropy)\n",
        "    optimizer = tf.train.AdamOptimizer()\n",
        "    training_op = optimizer.minimize(loss)\n",
        "    \n",
        "with tf.name_scope(\"eval\"):\n",
        "    correct = tf.nn.in_top_k(logits, y, 1)\n",
        "    accuracy = tf.reduce_mean(tf.cast(correct, tf.float32))\n",
        "    \n",
        "with tf.name_scope(\"init_and_save\"):\n",
        "    init = tf.global_variables_initializer()\n",
        "    saver = tf.train.Saver()\n",
        "    \n",
        "init = tf.global_variables_initializer()\n",
        "saver = tf.train.Saver()"
      ],
      "execution_count": 0,
      "outputs": []
    },
    {
      "metadata": {
        "id": "TopY4FPdsxa9",
        "colab_type": "code",
        "colab": {
          "base_uri": "https://localhost:8080/",
          "height": 372
        },
        "outputId": "ebb47cf8-cd46-44a5-8632-4a08c14ff732"
      },
      "cell_type": "code",
      "source": [
        "n_epochs = 20\n",
        "batch_size = 120\n",
        "\n",
        "with tf.Session() as sess:\n",
        "    init.run()\n",
        "    for epoch in range(n_epochs):\n",
        "        i=0\n",
        "        for iteration in range(len(X_train) // batch_size):\n",
        "            X_batch, y_batch = X_train[i:(i+batch_size):1], y_train[i:(i+batch_size):1]\n",
        "            sess.run(training_op, feed_dict={X_reshaped: X_batch, y: y_batch})\n",
        "            #print (epoch, iteration, i, i+70, len(X_batch))\n",
        "            i=i+batch_size\n",
        "        acc_train = accuracy.eval(feed_dict={X_reshaped: X_batch, y: y_batch})\n",
        "        acc_test = accuracy.eval(feed_dict={X_reshaped: X_test, y: y_test})\n",
        "        print(epoch, \"Train accuracy:\", acc_train, \"Test accuracy:\", acc_test)\n",
        "\n",
        "        save_path = saver.save(sess, \"./my_trained_model1a\")"
      ],
      "execution_count": 14,
      "outputs": [
        {
          "output_type": "stream",
          "text": [
            "0 Train accuracy: 0.48333332 Test accuracy: 0.47833332\n",
            "1 Train accuracy: 0.5083333 Test accuracy: 0.5516667\n",
            "2 Train accuracy: 0.5 Test accuracy: 0.53333336\n",
            "3 Train accuracy: 0.5083333 Test accuracy: 0.49\n",
            "4 Train accuracy: 0.525 Test accuracy: 0.48333332\n",
            "5 Train accuracy: 0.5083333 Test accuracy: 0.485\n",
            "6 Train accuracy: 0.525 Test accuracy: 0.505\n",
            "7 Train accuracy: 0.53333336 Test accuracy: 0.51166666\n",
            "8 Train accuracy: 0.53333336 Test accuracy: 0.505\n",
            "9 Train accuracy: 0.55833334 Test accuracy: 0.5083333\n",
            "10 Train accuracy: 0.56666666 Test accuracy: 0.53333336\n",
            "11 Train accuracy: 0.5833333 Test accuracy: 0.5283333\n",
            "12 Train accuracy: 0.5833333 Test accuracy: 0.53\n",
            "13 Train accuracy: 0.53333336 Test accuracy: 0.5083333\n",
            "14 Train accuracy: 0.55 Test accuracy: 0.54\n",
            "15 Train accuracy: 0.525 Test accuracy: 0.53\n",
            "16 Train accuracy: 0.56666666 Test accuracy: 0.53833336\n",
            "17 Train accuracy: 0.55 Test accuracy: 0.53333336\n",
            "18 Train accuracy: 0.55833334 Test accuracy: 0.50166667\n",
            "19 Train accuracy: 0.6 Test accuracy: 0.51\n"
          ],
          "name": "stdout"
        }
      ]
    },
    {
      "metadata": {
        "id": "wE4YNB9-tU3C",
        "colab_type": "text"
      },
      "cell_type": "markdown",
      "source": [
        "### **Display tensorflow graph**"
      ]
    },
    {
      "metadata": {
        "id": "-9Q9MwC9s4U5",
        "colab_type": "code",
        "colab": {}
      },
      "cell_type": "code",
      "source": [
        "show_graph(tf.get_default_graph().as_graph_def())"
      ],
      "execution_count": 0,
      "outputs": []
    },
    {
      "metadata": {
        "id": "6FyCUmuys54l",
        "colab_type": "text"
      },
      "cell_type": "markdown",
      "source": [
        "## **Model 2.A**"
      ]
    },
    {
      "metadata": {
        "id": "XuNKneEfs8mE",
        "colab_type": "code",
        "colab": {}
      },
      "cell_type": "code",
      "source": [
        "conv1_fmaps = 32 # weights\n",
        "conv1_ksize = [5,5] # kernel size\n",
        "conv1_stride = 1 # \n",
        "conv1_pad = \"SAME\"\n",
        "\n",
        "conv2_fmaps = 64\n",
        "conv2_ksize = [5,5]\n",
        "conv2_stride = 2\n",
        "conv2_pad = \"SAME\"\n",
        "\n",
        "pool3_fmaps = conv1_fmaps\n",
        "pool4_fmaps = conv2_fmaps\n",
        "n_fc1 = 1024\n",
        "n_outputs = 2"
      ],
      "execution_count": 0,
      "outputs": []
    },
    {
      "metadata": {
        "id": "TG1fiSZCtAKu",
        "colab_type": "code",
        "colab": {}
      },
      "cell_type": "code",
      "source": [
        "reset_graph()\n",
        "\n",
        "with tf.name_scope(\"inputs\"):\n",
        "    X = tf.placeholder(tf.float32, shape=[None, n_inputs], name=\"X\")\n",
        "    X_reshaped = tf.reshape(X, shape=[-1, IMG_WIDTH, IMG_HEIGHT,1])\n",
        "    y = tf.placeholder(tf.int32, shape=[None], name=\"y\")\n",
        "\n",
        "conv1 = tf.layers.conv2d(X_reshaped, filters=conv1_fmaps, kernel_size=conv1_ksize,\n",
        "                         strides=conv1_stride, padding=conv1_pad,\n",
        "                         activation=tf.nn.relu, name=\"conv1\")\n",
        "\n",
        "with tf.name_scope(\"pool3\"):\n",
        "    pool3 = tf.nn.max_pool(conv1, ksize=[1, 2, 2, 1], strides=[1, 2, 2, 1], padding=\"VALID\")\n",
        "    pool3_flat = tf.reshape(pool3, shape=[-1, pool3_fmaps * 6 * 6])\n",
        "    #pool3_flat = tf.reshape(pool3, shape=[-1, IMG_WIDTH, IMG_HEIGHT,1])\n",
        "\n",
        "conv2 = tf.layers.conv2d(pool3, filters=conv2_fmaps, kernel_size=conv2_ksize,\n",
        "                         strides=conv2_stride, padding=conv2_pad,\n",
        "                         activation=tf.nn.relu, name=\"conv2\")\n",
        "\n",
        "with tf.name_scope(\"pool4\"):\n",
        "    pool4 = tf.nn.max_pool(conv2, ksize=[1, 2, 2, 1], strides=[1, 2, 2, 1], padding=\"VALID\")\n",
        "    pool4_flat = tf.reshape(pool4, shape=[-1, pool4_fmaps * 6 * 6])\n",
        "    #pool4_flat = tf.reshape(pool4, shape=[-1, IMG_WIDTH*IMG_HEIGHT,1])\n",
        "    \n",
        "with tf.name_scope(\"fc1\"):\n",
        "    fc1 = tf.layers.dense(pool4_flat, n_fc1, activation=tf.nn.relu, name=\"fc1\")\n",
        "\n",
        "with tf.name_scope(\"output\"):\n",
        "    logits = tf.layers.dense(fc1, n_outputs, name=\"output\")\n",
        "    Y_proba = tf.nn.softmax(logits, name=\"Y_proba\")\n",
        "\n",
        "with tf.name_scope(\"train\"):\n",
        "    xentropy = tf.nn.sparse_softmax_cross_entropy_with_logits(logits=logits, labels=y)\n",
        "    loss = tf.reduce_mean(xentropy)\n",
        "    optimizer = tf.train.AdamOptimizer()\n",
        "    training_op = optimizer.minimize(loss)\n",
        "\n",
        "with tf.name_scope(\"eval\"):\n",
        "    correct = tf.nn.in_top_k(logits, y, 1)\n",
        "    accuracy = tf.reduce_mean(tf.cast(correct, tf.float32))  \n",
        "\n",
        "with tf.name_scope(\"init_and_save\"):\n",
        "    init = tf.global_variables_initializer()\n",
        "    saver = tf.train.Saver()\n",
        "  \n",
        "init = tf.global_variables_initializer()\n",
        "saver = tf.train.Saver()"
      ],
      "execution_count": 0,
      "outputs": []
    },
    {
      "metadata": {
        "id": "aSiY26hPtCpe",
        "colab_type": "code",
        "colab": {
          "base_uri": "https://localhost:8080/",
          "height": 372
        },
        "outputId": "651345e6-8c9e-4911-852b-4e3cc1b85954"
      },
      "cell_type": "code",
      "source": [
        "n_epochs = 20\n",
        "batch_size = 70\n",
        "\n",
        "with tf.Session() as sess:\n",
        "    init.run()\n",
        "    for epoch in range(n_epochs):\n",
        "        i=0\n",
        "        for iteration in range(len(X_train) // batch_size):\n",
        "            X_batch, y_batch = X_train[i:(i+batch_size):1], y_train[i:(i+batch_size):1]\n",
        "            sess.run(training_op, feed_dict={X_reshaped: X_batch, y: y_batch})\n",
        "            #print (epoch, iteration, i, i+70, len(X_batch))\n",
        "            i=i+batch_size\n",
        "        acc_train = accuracy.eval(feed_dict={X_reshaped: X_batch, y: y_batch})\n",
        "        acc_test = accuracy.eval(feed_dict={X_reshaped: X_test, y: y_test})\n",
        "        print(epoch, \"Train accuracy:\", acc_train, \"Test accuracy:\", acc_test)\n",
        "\n",
        "        save_path = saver.save(sess, \"./my_trained_model2a\")"
      ],
      "execution_count": 17,
      "outputs": [
        {
          "output_type": "stream",
          "text": [
            "0 Train accuracy: 0.55714285 Test accuracy: 0.47166666\n",
            "1 Train accuracy: 0.5857143 Test accuracy: 0.48666668\n",
            "2 Train accuracy: 0.5857143 Test accuracy: 0.48833334\n",
            "3 Train accuracy: 0.74285716 Test accuracy: 0.52\n",
            "4 Train accuracy: 0.64285713 Test accuracy: 0.48333332\n",
            "5 Train accuracy: 0.6 Test accuracy: 0.485\n",
            "6 Train accuracy: 0.64285713 Test accuracy: 0.5183333\n",
            "7 Train accuracy: 0.6857143 Test accuracy: 0.5133333\n",
            "8 Train accuracy: 0.7 Test accuracy: 0.52\n",
            "9 Train accuracy: 0.6571429 Test accuracy: 0.50666666\n",
            "10 Train accuracy: 0.78571427 Test accuracy: 0.52166665\n",
            "11 Train accuracy: 0.7714286 Test accuracy: 0.545\n",
            "12 Train accuracy: 0.71428573 Test accuracy: 0.51\n",
            "13 Train accuracy: 0.7 Test accuracy: 0.52166665\n",
            "14 Train accuracy: 0.7714286 Test accuracy: 0.5133333\n",
            "15 Train accuracy: 0.8142857 Test accuracy: 0.5516667\n",
            "16 Train accuracy: 0.8 Test accuracy: 0.57166666\n",
            "17 Train accuracy: 0.8 Test accuracy: 0.52\n",
            "18 Train accuracy: 0.87142855 Test accuracy: 0.53833336\n",
            "19 Train accuracy: 0.87142855 Test accuracy: 0.55\n"
          ],
          "name": "stdout"
        }
      ]
    },
    {
      "metadata": {
        "id": "yQB3NMIOtOtk",
        "colab_type": "text"
      },
      "cell_type": "markdown",
      "source": [
        "### **Display tensorflow graph**"
      ]
    },
    {
      "metadata": {
        "id": "qwBTmX11tOBb",
        "colab_type": "code",
        "colab": {}
      },
      "cell_type": "code",
      "source": [
        "show_graph(tf.get_default_graph().as_graph_def())"
      ],
      "execution_count": 0,
      "outputs": []
    },
    {
      "metadata": {
        "id": "vnuRyqXyta36",
        "colab_type": "text"
      },
      "cell_type": "markdown",
      "source": [
        "## **Model 3.A**"
      ]
    },
    {
      "metadata": {
        "id": "quHLtngGty76",
        "colab_type": "code",
        "colab": {}
      },
      "cell_type": "code",
      "source": [
        "conv1_fmaps = 32 # weights\n",
        "conv1_ksize = [5,5] # kernel size\n",
        "conv1_stride = 1 # \n",
        "conv1_pad = \"SAME\"\n",
        "\n",
        "conv2_fmaps = 64\n",
        "conv2_ksize = [5,5]\n",
        "conv2_stride = 2\n",
        "conv2_pad = \"SAME\"\n",
        "\n",
        "pool3_fmaps = conv1_fmaps\n",
        "pool4_fmaps = conv2_fmaps\n",
        "n_fc1 = 1024\n",
        "n_outputs = 2"
      ],
      "execution_count": 0,
      "outputs": []
    },
    {
      "metadata": {
        "id": "ikKCsuwSt2Ma",
        "colab_type": "code",
        "colab": {}
      },
      "cell_type": "code",
      "source": [
        "reset_graph()\n",
        "\n",
        "with tf.name_scope(\"inputs\"):\n",
        "    X = tf.placeholder(tf.float32, shape=[None, n_inputs], name=\"X\")\n",
        "    X_reshaped = tf.reshape(X, shape=[-1, IMG_WIDTH, IMG_HEIGHT,1])\n",
        "    y = tf.placeholder(tf.int32, shape=[None], name=\"y\")\n",
        "\n",
        "conv1 = tf.layers.conv2d(X_reshaped, filters=conv1_fmaps, kernel_size=conv1_ksize,\n",
        "                         strides=conv1_stride, padding=conv1_pad,\n",
        "                         activation=tf.nn.tanh, name=\"conv1\")\n",
        "\n",
        "with tf.name_scope(\"pool3\"):\n",
        "    pool3 = tf.nn.max_pool(conv1, ksize=[1, 2, 2, 1], strides=[1, 2, 2, 1], padding=\"VALID\")\n",
        "    pool3_flat = tf.reshape(pool3, shape=[-1, pool3_fmaps * 6 * 6])\n",
        "    #pool3_flat = tf.reshape(pool3, shape=[-1, IMG_WIDTH, IMG_HEIGHT,1])\n",
        "\n",
        "conv2 = tf.layers.conv2d(pool3, filters=conv2_fmaps, kernel_size=conv2_ksize,\n",
        "                         strides=conv2_stride, padding=conv2_pad,\n",
        "                         activation=tf.nn.tanh, name=\"conv2\")\n",
        "\n",
        "with tf.name_scope(\"pool4\"):\n",
        "    pool4 = tf.nn.max_pool(conv2, ksize=[1, 2, 2, 1], strides=[1, 2, 2, 1], padding=\"VALID\")\n",
        "    pool4_flat = tf.reshape(pool4, shape=[-1, pool4_fmaps * 6 * 6])\n",
        "    #pool4_flat = tf.reshape(pool4, shape=[-1, IMG_WIDTH*IMG_HEIGHT,1])\n",
        "    \n",
        "with tf.name_scope(\"fc1\"):\n",
        "    fc1 = tf.layers.dense(pool4_flat, n_fc1, activation=tf.nn.relu, name=\"fc1\")\n",
        "\n",
        "with tf.name_scope(\"output\"):\n",
        "    logits = tf.layers.dense(fc1, n_outputs, name=\"output\")\n",
        "    Y_proba = tf.nn.softmax(logits, name=\"Y_proba\")\n",
        "\n",
        "with tf.name_scope(\"train\"):\n",
        "    xentropy = tf.nn.sparse_softmax_cross_entropy_with_logits(logits=logits, labels=y)\n",
        "    loss = tf.reduce_mean(xentropy)\n",
        "    optimizer = tf.train.AdamOptimizer()\n",
        "    training_op = optimizer.minimize(loss)\n",
        "\n",
        "with tf.name_scope(\"eval\"):\n",
        "    correct = tf.nn.in_top_k(logits, y, 1)\n",
        "    accuracy = tf.reduce_mean(tf.cast(correct, tf.float32))  \n",
        "\n",
        "with tf.name_scope(\"init_and_save\"):\n",
        "    init = tf.global_variables_initializer()\n",
        "    saver = tf.train.Saver()\n",
        "    \n",
        "init = tf.global_variables_initializer()\n",
        "saver = tf.train.Saver()"
      ],
      "execution_count": 0,
      "outputs": []
    },
    {
      "metadata": {
        "id": "XFIiWh2duHV2",
        "colab_type": "code",
        "colab": {
          "base_uri": "https://localhost:8080/",
          "height": 372
        },
        "outputId": "512a3716-ff2f-4444-cf59-1150733387be"
      },
      "cell_type": "code",
      "source": [
        "n_epochs = 20\n",
        "batch_size = 70\n",
        "\n",
        "with tf.Session() as sess:\n",
        "    init.run()\n",
        "    for epoch in range(n_epochs):\n",
        "        i=0\n",
        "        for iteration in range(len(X_train) // batch_size):\n",
        "            X_batch, y_batch = X_train[i:(i+batch_size):1], y_train[i:(i+batch_size):1]\n",
        "            sess.run(training_op, feed_dict={X_reshaped: X_batch, y: y_batch})\n",
        "            #print (epoch, iteration, i, i+70, len(X_batch))\n",
        "            i=i+batch_size\n",
        "        acc_train = accuracy.eval(feed_dict={X_reshaped: X_batch, y: y_batch})\n",
        "        acc_test = accuracy.eval(feed_dict={X_reshaped: X_test, y: y_test})\n",
        "        print(epoch, \"Train accuracy:\", acc_train, \"Test accuracy:\", acc_test)\n",
        "\n",
        "        save_path = saver.save(sess, \"./my_trained_model3\")"
      ],
      "execution_count": 20,
      "outputs": [
        {
          "output_type": "stream",
          "text": [
            "0 Train accuracy: 0.5857143 Test accuracy: 0.52666664\n",
            "1 Train accuracy: 0.67142856 Test accuracy: 0.6533333\n",
            "2 Train accuracy: 0.75714284 Test accuracy: 0.66833335\n",
            "3 Train accuracy: 0.82857144 Test accuracy: 0.66833335\n",
            "4 Train accuracy: 0.6571429 Test accuracy: 0.525\n",
            "5 Train accuracy: 0.85714287 Test accuracy: 0.6566667\n",
            "6 Train accuracy: 0.82857144 Test accuracy: 0.6716667\n",
            "7 Train accuracy: 0.82857144 Test accuracy: 0.635\n",
            "8 Train accuracy: 0.94285715 Test accuracy: 0.64666665\n",
            "9 Train accuracy: 0.9 Test accuracy: 0.62666667\n",
            "10 Train accuracy: 0.95714283 Test accuracy: 0.67333335\n",
            "11 Train accuracy: 0.9 Test accuracy: 0.6383333\n",
            "12 Train accuracy: 0.98571426 Test accuracy: 0.6433333\n",
            "13 Train accuracy: 0.95714283 Test accuracy: 0.635\n",
            "14 Train accuracy: 0.9142857 Test accuracy: 0.6066667\n",
            "15 Train accuracy: 0.95714283 Test accuracy: 0.62666667\n",
            "16 Train accuracy: 0.94285715 Test accuracy: 0.64166665\n",
            "17 Train accuracy: 1.0 Test accuracy: 0.6333333\n",
            "18 Train accuracy: 0.9714286 Test accuracy: 0.65166664\n",
            "19 Train accuracy: 0.8428571 Test accuracy: 0.60833335\n"
          ],
          "name": "stdout"
        }
      ]
    },
    {
      "metadata": {
        "id": "OJZAFHrGS0uO",
        "colab_type": "text"
      },
      "cell_type": "markdown",
      "source": [
        "### **Display tensorflow graph**"
      ]
    },
    {
      "metadata": {
        "id": "FilFrFnXS4S9",
        "colab_type": "code",
        "colab": {}
      },
      "cell_type": "code",
      "source": [
        "show_graph(tf.get_default_graph().as_graph_def())"
      ],
      "execution_count": 0,
      "outputs": []
    },
    {
      "metadata": {
        "id": "kGNSSBiMRv9O",
        "colab_type": "text"
      },
      "cell_type": "markdown",
      "source": [
        "# **Data Import 2**\n",
        "\n",
        "8,000 images: 4,000 of both dog and cat"
      ]
    },
    {
      "metadata": {
        "id": "3LUrxnkqBKX5",
        "colab_type": "code",
        "colab": {}
      },
      "cell_type": "code",
      "source": [
        "RANDOM_SEED = 42\n",
        "\n",
        "IMG_WIDTH = 50\n",
        "IMG_HEIGHT = 50\n",
        "IMG_CHANNELS = 1\n",
        "\n",
        "n_inputs = IMG_WIDTH * IMG_HEIGHT * IMG_CHANNELS"
      ],
      "execution_count": 0,
      "outputs": []
    },
    {
      "metadata": {
        "id": "cPIVRN7USMQh",
        "colab_type": "code",
        "colab": {
          "base_uri": "https://localhost:8080/",
          "height": 35
        },
        "outputId": "4c258841-0efd-48a9-eb68-fefdb77f59b0"
      },
      "cell_type": "code",
      "source": [
        "training_data2 = []\n",
        "\n",
        "#with zipfile.ZipFile(\"/content/drive/My Drive/Colab Notebooks/Data/cats_v_dogs/cats_dogs_images.zip\", 'r') as z:\n",
        "with zipfile.ZipFile(\"/content/drive/My Drive/Colab Notebooks/Data/cats_v_dogs/train_set.zip\", 'r') as z:\n",
        "  for fn in tqdm(z.namelist()):\n",
        "    if not os.path.isdir(fn) and fn.endswith(\"jpg\"):\n",
        "\n",
        "      label = label_img(fn)\n",
        "\n",
        "      img_str = z.read(fn)\n",
        "\n",
        "      nparr = np.frombuffer(img_str, np.uint8)\n",
        "\n",
        "      img_np = cv2.imdecode(nparr, cv2.IMREAD_GRAYSCALE)\n",
        "\n",
        "      img = cv2.resize(img_np, (IMG_WIDTH, IMG_HEIGHT))\n",
        "\n",
        "      training_data2.append([ np.array(img), np.array(label)])\n",
        "      #print (label)"
      ],
      "execution_count": 48,
      "outputs": [
        {
          "output_type": "stream",
          "text": [
            "100%|██████████| 8001/8001 [00:09<00:00, 826.68it/s]\n"
          ],
          "name": "stderr"
        }
      ]
    },
    {
      "metadata": {
        "id": "Z7vfNMuiSP4q",
        "colab_type": "code",
        "colab": {}
      },
      "cell_type": "code",
      "source": [
        "from matplotlib import pyplot as plt  # for display of images\n",
        "def show_grayscale_image(image):\n",
        "    plt.imshow(image, cmap='gray')\n",
        "    plt.axis('off')\n",
        "    plt.show()\n",
        "# Examine first cat and first dog grayscale images\n",
        "#show_grayscale_image(cats_1000_64_64_1[0,:,:,0])\n",
        "#show_grayscale_image(dogs_1000_64_64_1[0,:,:,0])\n",
        "\n",
        "def plot_image(image):\n",
        "    plt.imshow(image, cmap=\"gray\", interpolation=\"bicubic\")\n",
        "    plt.axis(\"off\")\n",
        "\n",
        "def plot_color_image(image):\n",
        "    plt.imshow(image.astype(np.uint8),interpolation=\"bicubic\")\n",
        "    plt.axis(\"off\")\n",
        "\n",
        "    \n",
        "from IPython.display import clear_output, Image, display, HTML\n",
        "import datetime"
      ],
      "execution_count": 0,
      "outputs": []
    },
    {
      "metadata": {
        "id": "MstiqlqNSRxc",
        "colab_type": "code",
        "colab": {}
      },
      "cell_type": "code",
      "source": [
        "def shuffle_batch(X1, y1, batch_size):\n",
        "    rnd_idx = np.random.permutation(len(X1))\n",
        "    n_batches = len(X1) // batch_size \n",
        "    for batch_idx in np.array_split(rnd_idx, n_batches):\n",
        "        X_batch, y_batch = X1[batch_idx], y1[batch_idx]\n",
        "        yield X_batch, y_batch"
      ],
      "execution_count": 0,
      "outputs": []
    },
    {
      "metadata": {
        "id": "w0l9H5y6SUT6",
        "colab_type": "code",
        "colab": {
          "base_uri": "https://localhost:8080/",
          "height": 348
        },
        "outputId": "45794fa1-1609-48fb-f39c-7181f28678d9"
      },
      "cell_type": "code",
      "source": [
        "plot_image(training_data2[0][0])"
      ],
      "execution_count": 51,
      "outputs": [
        {
          "output_type": "display_data",
          "data": {
            "image/png": "[encoded data removed]",
            "text/plain": [
              "<matplotlib.figure.Figure at 0x7f21cc1d5278>"
            ]
          },
          "metadata": {
            "tags": []
          }
        }
      ]
    },
    {
      "metadata": {
        "id": "jajwXUR1SWG_",
        "colab_type": "code",
        "colab": {}
      },
      "cell_type": "code",
      "source": [
        "import numpy as np\n",
        "import pandas as pd\n",
        "from sklearn.model_selection import train_test_split\n",
        "\n",
        "from random import shuffle \n",
        "\n",
        "shuffle(training_data2)\n",
        "\n",
        "train2 = training_data2[:-600]\n",
        "test2 = training_data2[-600:]\n",
        "\n",
        "X_train2 = np.array([i[0] for i in train2]).astype(np.float32).reshape(-1, IMG_WIDTH, IMG_HEIGHT, 1)\n",
        "y_train2 = np.array([i[1] for i in train2]).astype(np.int32)\n",
        "\n",
        "X_test2 = np.array([i[0] for i in test2]).astype(np.float32).reshape(-1, IMG_WIDTH, IMG_HEIGHT, 1)\n",
        "y_test2 = np.array([i[1] for i in test2]).astype(np.int32)"
      ],
      "execution_count": 0,
      "outputs": []
    },
    {
      "metadata": {
        "id": "H7nCHjX2SdlZ",
        "colab_type": "text"
      },
      "cell_type": "markdown",
      "source": [
        "# **Model Series B**\n",
        "\n",
        "8,000 50x50 grayscale images"
      ]
    },
    {
      "metadata": {
        "id": "jHvRRyhuShNi",
        "colab_type": "text"
      },
      "cell_type": "markdown",
      "source": [
        "## **Model 1.B**"
      ]
    },
    {
      "metadata": {
        "id": "cMzpus4BSkvg",
        "colab_type": "code",
        "colab": {}
      },
      "cell_type": "code",
      "source": [
        "conv1_fmaps = 10\n",
        "conv1_ksize = [5,5]\n",
        "conv1_stride = 1\n",
        "conv1_pad = \"SAME\"\n",
        "\n",
        "conv2_fmaps = 20\n",
        "conv2_ksize = [5,5]\n",
        "conv2_stride = 2\n",
        "conv2_pad = \"SAME\"\n",
        "\n",
        "pool3_fmaps = conv2_fmaps\n",
        "n_fc1 = 20\n",
        "n_outputs = 2"
      ],
      "execution_count": 0,
      "outputs": []
    },
    {
      "metadata": {
        "id": "-KsEWj5jSnE3",
        "colab_type": "code",
        "colab": {}
      },
      "cell_type": "code",
      "source": [
        "reset_graph()\n",
        "\n",
        "with tf.name_scope(\"inputs\"):\n",
        "    X = tf.placeholder(tf.float32, shape=[None, n_inputs], name=\"X\")\n",
        "    X_reshaped = tf.reshape(X, shape=[-1, IMG_WIDTH, IMG_HEIGHT,1])\n",
        "    y = tf.placeholder(tf.int32, shape=[None], name=\"y\")\n",
        "\n",
        "conv1 = tf.layers.conv2d(X_reshaped, filters=conv1_fmaps, kernel_size=conv1_ksize,\n",
        "                         strides=conv1_stride, padding=conv1_pad,\n",
        "                         activation=tf.nn.relu, name=\"conv1\")\n",
        "\n",
        "conv2 = tf.layers.conv2d(conv1, filters=conv2_fmaps, kernel_size=conv2_ksize,\n",
        "                         strides=conv2_stride, padding=conv2_pad,\n",
        "                         activation=tf.nn.relu, name=\"conv2\")\n",
        "                         \n",
        "with tf.name_scope(\"pool3\"):\n",
        "    pool3 = tf.nn.max_pool(conv2, ksize=[1, 2, 2, 1], strides=[1, 2, 2, 1], padding=\"VALID\")\n",
        "    pool3_flat = tf.reshape(pool3, shape=[-1, pool3_fmaps * 12 * 12])\n",
        "    #pool3_flat = tf.reshape(pool3, shape=[-1, pool3_fmaps * 1 * 1])\n",
        "    \n",
        "with tf.name_scope(\"fc1\"):\n",
        "    fc1 = tf.layers.dense(pool3_flat, n_fc1, activation=tf.nn.relu, name=\"fc1\")\n",
        "    \n",
        "with tf.name_scope(\"output\"):\n",
        "    logits = tf.layers.dense(fc1, n_outputs, name=\"output\")\n",
        "    Y_proba = tf.nn.softmax(logits, name=\"Y_proba\")\n",
        "    \n",
        "with tf.name_scope(\"train\"):\n",
        "    xentropy = tf.nn.sparse_softmax_cross_entropy_with_logits(logits=logits, labels=y)\n",
        "    loss = tf.reduce_mean(xentropy)\n",
        "    optimizer = tf.train.AdamOptimizer()\n",
        "    training_op = optimizer.minimize(loss)\n",
        "    \n",
        "with tf.name_scope(\"eval\"):\n",
        "    correct = tf.nn.in_top_k(logits, y, 1)\n",
        "    accuracy = tf.reduce_mean(tf.cast(correct, tf.float32))\n",
        "    \n",
        "with tf.name_scope(\"init_and_save\"):\n",
        "    init = tf.global_variables_initializer()\n",
        "    saver = tf.train.Saver()\n",
        "    \n",
        "init = tf.global_variables_initializer()\n",
        "saver = tf.train.Saver()"
      ],
      "execution_count": 0,
      "outputs": []
    },
    {
      "metadata": {
        "id": "IfnYRu1uSrOW",
        "colab_type": "code",
        "colab": {
          "base_uri": "https://localhost:8080/",
          "height": 372
        },
        "outputId": "82ac3085-132a-4d3c-bb59-04e928b03423"
      },
      "cell_type": "code",
      "source": [
        "n_epochs = 20\n",
        "batch_size = 120\n",
        "\n",
        "with tf.Session() as sess:\n",
        "    init.run()\n",
        "    for epoch in range(n_epochs):\n",
        "        i=0\n",
        "        for iteration in range(len(X_train2) // batch_size):\n",
        "            X_batch2, y_batch2 = X_train2[i:(i+batch_size):1], y_train2[i:(i+batch_size):1]\n",
        "            sess.run(training_op, feed_dict={X_reshaped: X_batch2, y: y_batch2})\n",
        "            #print (epoch, iteration, i, i+70, len(X_batch))\n",
        "            i=i+batch_size\n",
        "        acc_train = accuracy.eval(feed_dict={X_reshaped: X_batch2, y: y_batch2})\n",
        "        acc_test = accuracy.eval(feed_dict={X_reshaped: X_test2, y: y_test2})\n",
        "        print(epoch, \"Train accuracy:\", acc_train, \"Test accuracy:\", acc_test)\n",
        "\n",
        "        save_path = saver.save(sess, \"./my_trained_model1B\")"
      ],
      "execution_count": 30,
      "outputs": [
        {
          "output_type": "stream",
          "text": [
            "0 Train accuracy: 0.575 Test accuracy: 0.525\n",
            "1 Train accuracy: 0.725 Test accuracy: 0.56333333\n",
            "2 Train accuracy: 0.76666665 Test accuracy: 0.5933333\n",
            "3 Train accuracy: 0.76666665 Test accuracy: 0.61\n",
            "4 Train accuracy: 0.78333336 Test accuracy: 0.61333334\n",
            "5 Train accuracy: 0.775 Test accuracy: 0.63166666\n",
            "6 Train accuracy: 0.7916667 Test accuracy: 0.5783333\n",
            "7 Train accuracy: 0.825 Test accuracy: 0.5883333\n",
            "8 Train accuracy: 0.8666667 Test accuracy: 0.615\n",
            "9 Train accuracy: 0.875 Test accuracy: 0.61\n",
            "10 Train accuracy: 0.85833335 Test accuracy: 0.61333334\n",
            "11 Train accuracy: 0.85 Test accuracy: 0.62\n",
            "12 Train accuracy: 0.8666667 Test accuracy: 0.61833334\n",
            "13 Train accuracy: 0.89166665 Test accuracy: 0.62166667\n",
            "14 Train accuracy: 0.90833336 Test accuracy: 0.6066667\n",
            "15 Train accuracy: 0.925 Test accuracy: 0.63666666\n",
            "16 Train accuracy: 0.925 Test accuracy: 0.6333333\n",
            "17 Train accuracy: 0.93333334 Test accuracy: 0.63666666\n",
            "18 Train accuracy: 0.93333334 Test accuracy: 0.60333335\n",
            "19 Train accuracy: 0.9166667 Test accuracy: 0.62666667\n"
          ],
          "name": "stdout"
        }
      ]
    },
    {
      "metadata": {
        "id": "EBpjd6yrS75J",
        "colab_type": "text"
      },
      "cell_type": "markdown",
      "source": [
        "### **Display tensorflow graph**"
      ]
    },
    {
      "metadata": {
        "id": "itmo0k-ESt54",
        "colab_type": "code",
        "colab": {}
      },
      "cell_type": "code",
      "source": [
        "show_graph(tf.get_default_graph().as_graph_def())"
      ],
      "execution_count": 0,
      "outputs": []
    },
    {
      "metadata": {
        "id": "bhMzIcvxTDU6",
        "colab_type": "text"
      },
      "cell_type": "markdown",
      "source": [
        "## **Model 3.B**"
      ]
    },
    {
      "metadata": {
        "id": "Bv4lwIIdTGv4",
        "colab_type": "code",
        "colab": {}
      },
      "cell_type": "code",
      "source": [
        "conv1_fmaps = 32 # weights\n",
        "conv1_ksize = [5,5] # kernel size\n",
        "conv1_stride = 1 # \n",
        "conv1_pad = \"SAME\"\n",
        "\n",
        "conv2_fmaps = 64\n",
        "conv2_ksize = [5,5]\n",
        "conv2_stride = 2\n",
        "conv2_pad = \"SAME\"\n",
        "\n",
        "pool3_fmaps = conv1_fmaps\n",
        "pool4_fmaps = conv2_fmaps\n",
        "n_fc1 = 1024\n",
        "n_outputs = 2"
      ],
      "execution_count": 0,
      "outputs": []
    },
    {
      "metadata": {
        "id": "awp5KYwETPAj",
        "colab_type": "code",
        "colab": {}
      },
      "cell_type": "code",
      "source": [
        "reset_graph()\n",
        "\n",
        "with tf.name_scope(\"inputs\"):\n",
        "    X = tf.placeholder(tf.float32, shape=[None, n_inputs], name=\"X\")\n",
        "    X_reshaped = tf.reshape(X, shape=[-1, IMG_WIDTH, IMG_HEIGHT,1])\n",
        "    y = tf.placeholder(tf.int32, shape=[None], name=\"y\")\n",
        "\n",
        "conv1 = tf.layers.conv2d(X_reshaped, filters=conv1_fmaps, kernel_size=conv1_ksize,\n",
        "                         strides=conv1_stride, padding=conv1_pad,\n",
        "                         activation=tf.nn.tanh, name=\"conv1\")\n",
        "\n",
        "with tf.name_scope(\"pool3\"):\n",
        "    pool3 = tf.nn.max_pool(conv1, ksize=[1, 2, 2, 1], strides=[1, 2, 2, 1], padding=\"VALID\")\n",
        "    pool3_flat = tf.reshape(pool3, shape=[-1, pool3_fmaps * 6 * 6])\n",
        "    #pool3_flat = tf.reshape(pool3, shape=[-1, IMG_WIDTH, IMG_HEIGHT,1])\n",
        "\n",
        "conv2 = tf.layers.conv2d(pool3, filters=conv2_fmaps, kernel_size=conv2_ksize,\n",
        "                         strides=conv2_stride, padding=conv2_pad,\n",
        "                         activation=tf.nn.tanh, name=\"conv2\")\n",
        "\n",
        "with tf.name_scope(\"pool4\"):\n",
        "    pool4 = tf.nn.max_pool(conv2, ksize=[1, 2, 2, 1], strides=[1, 2, 2, 1], padding=\"VALID\")\n",
        "    pool4_flat = tf.reshape(pool4, shape=[-1, pool4_fmaps * 6 * 6])\n",
        "    #pool4_flat = tf.reshape(pool4, shape=[-1, IMG_WIDTH*IMG_HEIGHT,1])\n",
        "    \n",
        "with tf.name_scope(\"fc1\"):\n",
        "    fc1 = tf.layers.dense(pool4_flat, n_fc1, activation=tf.nn.relu, name=\"fc1\")\n",
        "\n",
        "with tf.name_scope(\"output\"):\n",
        "    logits = tf.layers.dense(fc1, n_outputs, name=\"output\")\n",
        "    Y_proba = tf.nn.softmax(logits, name=\"Y_proba\")\n",
        "\n",
        "with tf.name_scope(\"train\"):\n",
        "    xentropy = tf.nn.sparse_softmax_cross_entropy_with_logits(logits=logits, labels=y)\n",
        "    loss = tf.reduce_mean(xentropy)\n",
        "    optimizer = tf.train.AdamOptimizer()\n",
        "    training_op = optimizer.minimize(loss)\n",
        "\n",
        "with tf.name_scope(\"eval\"):\n",
        "    correct = tf.nn.in_top_k(logits, y, 1)\n",
        "    accuracy = tf.reduce_mean(tf.cast(correct, tf.float32))  \n",
        "\n",
        "with tf.name_scope(\"init_and_save\"):\n",
        "    init = tf.global_variables_initializer()\n",
        "    saver = tf.train.Saver()\n",
        "    \n",
        "init = tf.global_variables_initializer()\n",
        "saver = tf.train.Saver()"
      ],
      "execution_count": 0,
      "outputs": []
    },
    {
      "metadata": {
        "id": "eVmFijhjTTMr",
        "colab_type": "code",
        "colab": {
          "base_uri": "https://localhost:8080/",
          "height": 372
        },
        "outputId": "5910b439-8ad8-4027-fec8-5e31f13be4bb"
      },
      "cell_type": "code",
      "source": [
        "n_epochs = 20\n",
        "batch_size = 70\n",
        "\n",
        "with tf.Session() as sess:\n",
        "    init.run()\n",
        "    for epoch in range(n_epochs):\n",
        "        i=0\n",
        "        for iteration in range(len(X_train2) // batch_size):\n",
        "            X_batch2, y_batch2 = X_train2[i:(i+batch_size):1], y_train2[i:(i+batch_size):1]\n",
        "            sess.run(training_op, feed_dict={X_reshaped: X_batch2, y: y_batch2})\n",
        "            #print (epoch, iteration, i, i+70, len(X_batch))\n",
        "            i=i+batch_size\n",
        "        acc_train = accuracy.eval(feed_dict={X_reshaped: X_batch2, y: y_batch2})\n",
        "        acc_test = accuracy.eval(feed_dict={X_reshaped: X_test2, y: y_test2})\n",
        "        print(epoch, \"Train accuracy:\", acc_train, \"Test accuracy:\", acc_test)\n",
        "\n",
        "        save_path = saver.save(sess, \"./my_trained_model3b\")"
      ],
      "execution_count": 33,
      "outputs": [
        {
          "output_type": "stream",
          "text": [
            "0 Train accuracy: 0.64285713 Test accuracy: 0.62333333\n",
            "1 Train accuracy: 0.6857143 Test accuracy: 0.67833334\n",
            "2 Train accuracy: 0.6571429 Test accuracy: 0.62833333\n",
            "3 Train accuracy: 0.75714284 Test accuracy: 0.70666665\n",
            "4 Train accuracy: 0.74285716 Test accuracy: 0.67333335\n",
            "5 Train accuracy: 0.7714286 Test accuracy: 0.695\n",
            "6 Train accuracy: 0.8 Test accuracy: 0.7\n",
            "7 Train accuracy: 0.87142855 Test accuracy: 0.69666666\n",
            "8 Train accuracy: 0.85714287 Test accuracy: 0.7083333\n",
            "9 Train accuracy: 0.9142857 Test accuracy: 0.6816667\n",
            "10 Train accuracy: 0.9 Test accuracy: 0.68833333\n",
            "11 Train accuracy: 0.9285714 Test accuracy: 0.69\n",
            "12 Train accuracy: 0.9285714 Test accuracy: 0.6766667\n",
            "13 Train accuracy: 0.94285715 Test accuracy: 0.69\n",
            "14 Train accuracy: 0.8857143 Test accuracy: 0.7033333\n",
            "15 Train accuracy: 0.94285715 Test accuracy: 0.6816667\n",
            "16 Train accuracy: 0.9714286 Test accuracy: 0.68833333\n",
            "17 Train accuracy: 0.9285714 Test accuracy: 0.685\n",
            "18 Train accuracy: 0.9285714 Test accuracy: 0.665\n",
            "19 Train accuracy: 0.9714286 Test accuracy: 0.67333335\n"
          ],
          "name": "stdout"
        }
      ]
    },
    {
      "metadata": {
        "id": "0IlPIRJqTV7_",
        "colab_type": "text"
      },
      "cell_type": "markdown",
      "source": [
        "### **Display tensorflow graph**"
      ]
    },
    {
      "metadata": {
        "id": "AP1Cix_ZTY1r",
        "colab_type": "code",
        "colab": {}
      },
      "cell_type": "code",
      "source": [
        "show_graph(tf.get_default_graph().as_graph_def())"
      ],
      "execution_count": 0,
      "outputs": []
    },
    {
      "metadata": {
        "id": "DeWwDOUlQrzN",
        "colab_type": "text"
      },
      "cell_type": "markdown",
      "source": [
        "# **Model Series C**\n",
        "\n",
        "New Parameters"
      ]
    },
    {
      "metadata": {
        "id": "YMMZimMjTc91",
        "colab_type": "text"
      },
      "cell_type": "markdown",
      "source": [
        "## **Model 4.C**\n",
        "\n",
        "Decrease nodes in fully connected layer to 300 nodes"
      ]
    },
    {
      "metadata": {
        "id": "7vVCgnUyTogn",
        "colab_type": "code",
        "colab": {}
      },
      "cell_type": "code",
      "source": [
        "conv1_fmaps = 32 # weights\n",
        "conv1_ksize = [5,5] # kernel size\n",
        "conv1_stride = 1 # \n",
        "conv1_pad = \"SAME\"\n",
        "\n",
        "conv2_fmaps = 64\n",
        "conv2_ksize = [5,5]\n",
        "conv2_stride = 2\n",
        "conv2_pad = \"SAME\"\n",
        "\n",
        "pool3_fmaps = conv1_fmaps\n",
        "pool4_fmaps = conv2_fmaps\n",
        "n_fc1 = 300\n",
        "n_outputs = 2"
      ],
      "execution_count": 0,
      "outputs": []
    },
    {
      "metadata": {
        "id": "bBqJLVCATrV0",
        "colab_type": "code",
        "colab": {}
      },
      "cell_type": "code",
      "source": [
        "reset_graph()\n",
        "\n",
        "with tf.name_scope(\"inputs\"):\n",
        "    X = tf.placeholder(tf.float32, shape=[None, n_inputs], name=\"X\")\n",
        "    X_reshaped = tf.reshape(X, shape=[-1, IMG_WIDTH, IMG_HEIGHT,1])\n",
        "    y = tf.placeholder(tf.int32, shape=[None], name=\"y\")\n",
        "\n",
        "conv1 = tf.layers.conv2d(X_reshaped, filters=conv1_fmaps, kernel_size=conv1_ksize,\n",
        "                         strides=conv1_stride, padding=conv1_pad,\n",
        "                         activation=tf.nn.tanh, name=\"conv1\")\n",
        "\n",
        "with tf.name_scope(\"pool3\"):\n",
        "    pool3 = tf.nn.max_pool(conv1, ksize=[1, 2, 2, 1], strides=[1, 2, 2, 1], padding=\"VALID\")\n",
        "    pool3_flat = tf.reshape(pool3, shape=[-1, pool3_fmaps * 6 * 6])\n",
        "    #pool3_flat = tf.reshape(pool3, shape=[-1, IMG_WIDTH, IMG_HEIGHT,1])\n",
        "\n",
        "conv2 = tf.layers.conv2d(pool3, filters=conv2_fmaps, kernel_size=conv2_ksize,\n",
        "                         strides=conv2_stride, padding=conv2_pad,\n",
        "                         activation=tf.nn.tanh, name=\"conv2\")\n",
        "\n",
        "with tf.name_scope(\"pool4\"):\n",
        "    pool4 = tf.nn.max_pool(conv2, ksize=[1, 2, 2, 1], strides=[1, 2, 2, 1], padding=\"VALID\")\n",
        "    pool4_flat = tf.reshape(pool4, shape=[-1, pool4_fmaps * 6 * 6])\n",
        "    #pool4_flat = tf.reshape(pool4, shape=[-1, IMG_WIDTH*IMG_HEIGHT,1])\n",
        "    \n",
        "with tf.name_scope(\"fc1\"):\n",
        "    fc1 = tf.layers.dense(pool4_flat, n_fc1, activation=tf.nn.relu, name=\"fc1\")\n",
        "\n",
        "with tf.name_scope(\"output\"):\n",
        "    logits = tf.layers.dense(fc1, n_outputs, name=\"output\")\n",
        "    Y_proba = tf.nn.softmax(logits, name=\"Y_proba\")\n",
        "\n",
        "with tf.name_scope(\"train\"):\n",
        "    xentropy = tf.nn.sparse_softmax_cross_entropy_with_logits(logits=logits, labels=y)\n",
        "    loss = tf.reduce_mean(xentropy)\n",
        "    optimizer = tf.train.AdamOptimizer(learning_rate=0.0001)\n",
        "    training_op = optimizer.minimize(loss)\n",
        "\n",
        "with tf.name_scope(\"eval\"):\n",
        "    correct = tf.nn.in_top_k(logits, y, 1)\n",
        "    accuracy = tf.reduce_mean(tf.cast(correct, tf.float32))  \n",
        "\n",
        "with tf.name_scope(\"init_and_save\"):\n",
        "    init = tf.global_variables_initializer()\n",
        "    saver = tf.train.Saver()\n",
        "    \n",
        "init = tf.global_variables_initializer()\n",
        "saver = tf.train.Saver()"
      ],
      "execution_count": 0,
      "outputs": []
    },
    {
      "metadata": {
        "id": "KP3q9YQVTuOc",
        "colab_type": "code",
        "colab": {
          "base_uri": "https://localhost:8080/",
          "height": 906
        },
        "outputId": "0c5aee1d-9579-441c-850e-9c171367c954"
      },
      "cell_type": "code",
      "source": [
        "n_epochs = 20\n",
        "batch_size = 70\n",
        "\n",
        "with tf.Session() as sess:\n",
        "    init.run()\n",
        "    for epoch in range(n_epochs):\n",
        "        i=0\n",
        "        for iteration in range(len(X_train2) // batch_size):\n",
        "            X_batch2, y_batch2 = X_train2[i:(i+batch_size):1], y_train2[i:(i+batch_size):1]\n",
        "            sess.run(training_op, feed_dict={X_reshaped: X_batch2, y: y_batch2})\n",
        "            #print (epoch, iteration, i, i+70, len(X_batch))\n",
        "            i=i+batch_size\n",
        "        acc_train = accuracy.eval(feed_dict={X_reshaped: X_batch2, y: y_batch2})\n",
        "        acc_test = accuracy.eval(feed_dict={X_reshaped: X_test2, y: y_test2})\n",
        "        print(epoch, \"Train accuracy:\", acc_train, \"Test accuracy:\", acc_test)\n",
        "\n",
        "        save_path = saver.save(sess, \"./my_trained_model4B\")"
      ],
      "execution_count": 41,
      "outputs": [
        {
          "output_type": "stream",
          "text": [
            "0 Train accuracy: 0.67142856 Test accuracy: 0.655\n",
            "1 Train accuracy: 0.7285714 Test accuracy: 0.66833335\n",
            "2 Train accuracy: 0.71428573 Test accuracy: 0.67833334\n",
            "3 Train accuracy: 0.71428573 Test accuracy: 0.6933333\n",
            "4 Train accuracy: 0.7285714 Test accuracy: 0.70166665\n",
            "5 Train accuracy: 0.74285716 Test accuracy: 0.70666665\n",
            "6 Train accuracy: 0.78571427 Test accuracy: 0.71\n",
            "7 Train accuracy: 0.8 Test accuracy: 0.70166665\n",
            "8 Train accuracy: 0.87142855 Test accuracy: 0.7083333\n",
            "9 Train accuracy: 0.8857143 Test accuracy: 0.71166664\n",
            "10 Train accuracy: 0.9142857 Test accuracy: 0.7033333\n",
            "11 Train accuracy: 0.95714283 Test accuracy: 0.695\n",
            "12 Train accuracy: 0.9714286 Test accuracy: 0.695\n",
            "13 Train accuracy: 0.98571426 Test accuracy: 0.7083333\n",
            "14 Train accuracy: 0.98571426 Test accuracy: 0.71166664\n",
            "15 Train accuracy: 0.9 Test accuracy: 0.6716667\n",
            "16 Train accuracy: 0.98571426 Test accuracy: 0.68666667\n",
            "17 Train accuracy: 0.98571426 Test accuracy: 0.675\n",
            "18 Train accuracy: 0.98571426 Test accuracy: 0.67\n",
            "19 Train accuracy: 0.98571426 Test accuracy: 0.68666667\n",
            "20 Train accuracy: 0.94285715 Test accuracy: 0.69\n",
            "21 Train accuracy: 0.9714286 Test accuracy: 0.6766667\n",
            "22 Train accuracy: 1.0 Test accuracy: 0.67833334\n",
            "23 Train accuracy: 1.0 Test accuracy: 0.6766667\n",
            "24 Train accuracy: 1.0 Test accuracy: 0.6566667\n",
            "25 Train accuracy: 1.0 Test accuracy: 0.6566667\n",
            "26 Train accuracy: 1.0 Test accuracy: 0.6533333\n",
            "27 Train accuracy: 1.0 Test accuracy: 0.66833335\n",
            "28 Train accuracy: 1.0 Test accuracy: 0.67333335\n",
            "29 Train accuracy: 1.0 Test accuracy: 0.66333336\n",
            "30 Train accuracy: 1.0 Test accuracy: 0.665\n",
            "31 Train accuracy: 1.0 Test accuracy: 0.6816667\n",
            "32 Train accuracy: 1.0 Test accuracy: 0.6816667\n",
            "33 Train accuracy: 1.0 Test accuracy: 0.69166666\n",
            "34 Train accuracy: 1.0 Test accuracy: 0.68833333\n",
            "35 Train accuracy: 1.0 Test accuracy: 0.6816667\n",
            "36 Train accuracy: 1.0 Test accuracy: 0.68333334\n",
            "37 Train accuracy: 1.0 Test accuracy: 0.68333334\n",
            "38 Train accuracy: 1.0 Test accuracy: 0.68333334\n",
            "39 Train accuracy: 1.0 Test accuracy: 0.685\n",
            "40 Train accuracy: 1.0 Test accuracy: 0.685\n",
            "41 Train accuracy: 1.0 Test accuracy: 0.685\n",
            "42 Train accuracy: 1.0 Test accuracy: 0.68666667\n",
            "43 Train accuracy: 1.0 Test accuracy: 0.68833333\n",
            "44 Train accuracy: 1.0 Test accuracy: 0.67833334\n",
            "45 Train accuracy: 1.0 Test accuracy: 0.6816667\n",
            "46 Train accuracy: 1.0 Test accuracy: 0.68833333\n",
            "47 Train accuracy: 1.0 Test accuracy: 0.68333334\n",
            "48 Train accuracy: 1.0 Test accuracy: 0.6816667\n",
            "49 Train accuracy: 1.0 Test accuracy: 0.6816667\n"
          ],
          "name": "stdout"
        }
      ]
    },
    {
      "metadata": {
        "id": "9mFUcgsiT2fn",
        "colab_type": "text"
      },
      "cell_type": "markdown",
      "source": [
        "### **Display tensorflow graph**"
      ]
    },
    {
      "metadata": {
        "id": "xB5-0CuKT2Ji",
        "colab_type": "code",
        "colab": {}
      },
      "cell_type": "code",
      "source": [
        "show_graph(tf.get_default_graph().as_graph_def())"
      ],
      "execution_count": 0,
      "outputs": []
    },
    {
      "metadata": {
        "id": "InT9NdxO5-5K",
        "colab_type": "text"
      },
      "cell_type": "markdown",
      "source": [
        "## **Model 5.C**\n",
        "\n",
        "Add dropout, keep probability of 40%"
      ]
    },
    {
      "metadata": {
        "id": "_zcN3zl0GEOd",
        "colab_type": "code",
        "colab": {}
      },
      "cell_type": "code",
      "source": [
        "conv1_fmaps = 32 # weights\n",
        "conv1_ksize = [5,5] # kernel size\n",
        "conv1_stride = 1 # \n",
        "conv1_pad = \"SAME\"\n",
        "\n",
        "conv2_fmaps = 64\n",
        "conv2_ksize = [5,5]\n",
        "conv2_stride = 2\n",
        "conv2_pad = \"SAME\"\n",
        "\n",
        "pool3_fmaps = conv1_fmaps\n",
        "pool4_fmaps = conv2_fmaps\n",
        "n_fc1 = 300\n",
        "n_outputs = 2"
      ],
      "execution_count": 0,
      "outputs": []
    },
    {
      "metadata": {
        "id": "l-Xpwbv_GFJm",
        "colab_type": "code",
        "colab": {}
      },
      "cell_type": "code",
      "source": [
        "reset_graph()\n",
        "\n",
        "with tf.name_scope(\"inputs\"):\n",
        "    X = tf.placeholder(tf.float32, shape=[None, n_inputs], name=\"X\")\n",
        "    X_reshaped = tf.reshape(X, shape=[-1, IMG_WIDTH, IMG_HEIGHT,1])\n",
        "    y = tf.placeholder(tf.int32, shape=[None], name=\"y\")\n",
        "    keep_prob = tf.placeholder(tf.float32)\n",
        "\n",
        "conv1 = tf.layers.conv2d(X_reshaped, filters=conv1_fmaps, kernel_size=conv1_ksize,\n",
        "                         strides=conv1_stride, padding=conv1_pad,\n",
        "                         activation=tf.nn.tanh, name=\"conv1\")\n",
        "\n",
        "with tf.name_scope(\"pool3\"):\n",
        "    pool3 = tf.nn.max_pool(conv1, ksize=[1, 2, 2, 1], strides=[1, 2, 2, 1], padding=\"VALID\")\n",
        "    pool3_flat = tf.reshape(pool3, shape=[-1, pool3_fmaps * 6 * 6])\n",
        "    #pool3_flat = tf.reshape(pool3, shape=[-1, IMG_WIDTH, IMG_HEIGHT,1])\n",
        "\n",
        "conv2 = tf.layers.conv2d(pool3, filters=conv2_fmaps, kernel_size=conv2_ksize,\n",
        "                         strides=conv2_stride, padding=conv2_pad,\n",
        "                         activation=tf.nn.tanh, name=\"conv2\")\n",
        "\n",
        "with tf.name_scope(\"pool4\"):\n",
        "    pool4 = tf.nn.max_pool(conv2, ksize=[1, 2, 2, 1], strides=[1, 2, 2, 1], padding=\"VALID\")\n",
        "    pool4_flat = tf.reshape(pool4, shape=[-1, pool4_fmaps * 6 * 6])\n",
        "    #pool4_flat = tf.reshape(pool4, shape=[-1, IMG_WIDTH*IMG_HEIGHT,1])\n",
        "    \n",
        "with tf.name_scope(\"fc1\"):\n",
        "    fc1 = tf.layers.dense(pool4_flat, n_fc1, activation=tf.nn.relu, name=\"fc1\")\n",
        "    drop_out = tf.nn.dropout(fc1, keep_prob)\n",
        "\n",
        "with tf.name_scope(\"output\"):\n",
        "    logits = tf.layers.dense(drop_out, n_outputs, name=\"output\")\n",
        "    Y_proba = tf.nn.softmax(logits, name=\"Y_proba\")\n",
        "\n",
        "with tf.name_scope(\"train\"):\n",
        "    xentropy = tf.nn.sparse_softmax_cross_entropy_with_logits(logits=logits, labels=y)\n",
        "    loss = tf.reduce_mean(xentropy)\n",
        "    optimizer = tf.train.AdamOptimizer(learning_rate=0.0001)\n",
        "    training_op = optimizer.minimize(loss)\n",
        "\n",
        "with tf.name_scope(\"eval\"):\n",
        "    correct = tf.nn.in_top_k(logits, y, 1)\n",
        "    accuracy = tf.reduce_mean(tf.cast(correct, tf.float32))  \n",
        "\n",
        "with tf.name_scope(\"init_and_save\"):\n",
        "    init = tf.global_variables_initializer()\n",
        "    saver = tf.train.Saver()\n",
        "    \n",
        "init = tf.global_variables_initializer()\n",
        "saver = tf.train.Saver()"
      ],
      "execution_count": 0,
      "outputs": []
    },
    {
      "metadata": {
        "id": "GnU416PeGK5F",
        "colab_type": "code",
        "colab": {
          "base_uri": "https://localhost:8080/",
          "height": 372
        },
        "outputId": "14e2bafe-8762-4df4-e49d-809acb195809"
      },
      "cell_type": "code",
      "source": [
        "n_epochs = 20\n",
        "batch_size = 70\n",
        "\n",
        "with tf.Session() as sess:\n",
        "    init.run()\n",
        "    for epoch in range(n_epochs):\n",
        "        i=0\n",
        "        for iteration in range(len(X_train2) // batch_size):\n",
        "            X_batch2, y_batch2 = X_train2[i:(i+batch_size):1], y_train2[i:(i+batch_size):1]\n",
        "            sess.run(training_op, feed_dict={X_reshaped: X_batch2, y: y_batch2, keep_prob: 0.4})\n",
        "            #print (epoch, iteration, i, i+70, len(X_batch))\n",
        "            i=i+batch_size\n",
        "        acc_train = accuracy.eval(feed_dict={X_reshaped: X_batch2, y: y_batch2, keep_prob : 1.0})\n",
        "        acc_test = accuracy.eval(feed_dict={X_reshaped: X_test2, y: y_test2, keep_prob : 1.0})\n",
        "        print(epoch, \"Train accuracy:\", acc_train, \"Test accuracy:\", acc_test)\n",
        "\n",
        "        save_path = saver.save(sess, \"./my_trained_model4B\")"
      ],
      "execution_count": 77,
      "outputs": [
        {
          "output_type": "stream",
          "text": [
            "0 Train accuracy: 0.7285714 Test accuracy: 0.64166665\n",
            "1 Train accuracy: 0.7 Test accuracy: 0.6566667\n",
            "2 Train accuracy: 0.6857143 Test accuracy: 0.66333336\n",
            "3 Train accuracy: 0.8142857 Test accuracy: 0.6816667\n",
            "4 Train accuracy: 0.74285716 Test accuracy: 0.69666666\n",
            "5 Train accuracy: 0.78571427 Test accuracy: 0.7033333\n",
            "6 Train accuracy: 0.7714286 Test accuracy: 0.70166665\n",
            "7 Train accuracy: 0.8142857 Test accuracy: 0.6933333\n",
            "8 Train accuracy: 0.82857144 Test accuracy: 0.71666664\n",
            "9 Train accuracy: 0.85714287 Test accuracy: 0.7133333\n",
            "10 Train accuracy: 0.8428571 Test accuracy: 0.71\n",
            "11 Train accuracy: 0.87142855 Test accuracy: 0.7133333\n",
            "12 Train accuracy: 0.85714287 Test accuracy: 0.72333336\n",
            "13 Train accuracy: 0.87142855 Test accuracy: 0.71666664\n",
            "14 Train accuracy: 0.9 Test accuracy: 0.73333335\n",
            "15 Train accuracy: 0.87142855 Test accuracy: 0.7316667\n",
            "16 Train accuracy: 0.9142857 Test accuracy: 0.735\n",
            "17 Train accuracy: 0.9142857 Test accuracy: 0.74333334\n",
            "18 Train accuracy: 0.9285714 Test accuracy: 0.73833334\n",
            "19 Train accuracy: 0.95714283 Test accuracy: 0.74333334\n"
          ],
          "name": "stdout"
        }
      ]
    },
    {
      "metadata": {
        "id": "uln13_3mOIlh",
        "colab_type": "text"
      },
      "cell_type": "markdown",
      "source": [
        "### **Display tensorflow graph**"
      ]
    },
    {
      "metadata": {
        "id": "FeUVy6hNONOJ",
        "colab_type": "code",
        "colab": {}
      },
      "cell_type": "code",
      "source": [
        "show_graph(tf.get_default_graph().as_graph_def())"
      ],
      "execution_count": 0,
      "outputs": []
    },
    {
      "metadata": {
        "id": "mr4VYndHOLt3",
        "colab_type": "text"
      },
      "cell_type": "markdown",
      "source": [
        "# **Executive Summary**"
      ]
    },
    {
      "metadata": {
        "id": "pBvaUpHbXT3i",
        "colab_type": "code",
        "colab": {
          "base_uri": "https://localhost:8080/",
          "height": 252
        },
        "outputId": "cab2773b-72f8-4342-8a35-18c7da11aeeb"
      },
      "cell_type": "code",
      "source": [
        "model_names = ['Model 1.A','Model 2.A','Model 3.A','Model 1.B','Model 3.B','Model 4.C', 'Model 5.C']\n",
        "data_size = [2000,2000,2000,8000,8000,8000,8000]\n",
        "layer1_filters = [10,32,32,10,32,32,32]\n",
        "layer2_filters = [20,64,64,20,64,64,64]\n",
        "activtion_func = ['relu','relu','tanh','relu','tanh','tanh','tanh']\n",
        "fully_connected = [20,1024,1024,20,1024,300,300]\n",
        "avg_train_acc = [.6,.87,.84,.92,.97,1.0,1.0,]\n",
        "avg_test_acc = [.51,.55,.61,.63,.67,.70,.74]\n",
        "drop_keep_ = [0,0,0,0,0,0,.4]\n",
        "\n",
        "Table = pd.DataFrame(data ={'Model':model_names,'Data Size': data_size,'Layer1 Filter': layer1_filters,\n",
        "                           'Layer2 Filters':layer2_filters,'Activation':activtion_func,'FCL Nodes':fully_connected,\n",
        "                           'Avg. Training Acc':avg_train_acc,'Avg. Testing Acc':avg_test_acc,'Keep Probability':drop_keep_})\n",
        "Table\n",
        "cols = Table.columns.tolist()\n",
        "cols = cols[-1:] + cols[:-1]\n",
        "Table = Table.loc[:,cols]\n",
        "Table"
      ],
      "execution_count": 87,
      "outputs": [
        {
          "output_type": "execute_result",
          "data": {
            "text/html": [
              "<div>\n",
              "<style scoped>\n",
              "    .dataframe tbody tr th:only-of-type {\n",
              "        vertical-align: middle;\n",
              "    }\n",
              "\n",
              "    .dataframe tbody tr th {\n",
              "        vertical-align: top;\n",
              "    }\n",
              "\n",
              "    .dataframe thead th {\n",
              "        text-align: right;\n",
              "    }\n",
              "</style>\n",
              "<table border=\"1\" class=\"dataframe\">\n",
              "  <thead>\n",
              "    <tr style=\"text-align: right;\">\n",
              "      <th></th>\n",
              "      <th>Model</th>\n",
              "      <th>Activation</th>\n",
              "      <th>Avg. Testing Acc</th>\n",
              "      <th>Avg. Training Acc</th>\n",
              "      <th>Data Size</th>\n",
              "      <th>FCL Nodes</th>\n",
              "      <th>Keep Probability</th>\n",
              "      <th>Layer1 Filter</th>\n",
              "      <th>Layer2 Filters</th>\n",
              "    </tr>\n",
              "  </thead>\n",
              "  <tbody>\n",
              "    <tr>\n",
              "      <th>0</th>\n",
              "      <td>Model 1.A</td>\n",
              "      <td>relu</td>\n",
              "      <td>0.51</td>\n",
              "      <td>0.60</td>\n",
              "      <td>2000</td>\n",
              "      <td>20</td>\n",
              "      <td>0.0</td>\n",
              "      <td>10</td>\n",
              "      <td>20</td>\n",
              "    </tr>\n",
              "    <tr>\n",
              "      <th>1</th>\n",
              "      <td>Model 2.A</td>\n",
              "      <td>relu</td>\n",
              "      <td>0.55</td>\n",
              "      <td>0.87</td>\n",
              "      <td>2000</td>\n",
              "      <td>1024</td>\n",
              "      <td>0.0</td>\n",
              "      <td>32</td>\n",
              "      <td>64</td>\n",
              "    </tr>\n",
              "    <tr>\n",
              "      <th>2</th>\n",
              "      <td>Model 3.A</td>\n",
              "      <td>tanh</td>\n",
              "      <td>0.61</td>\n",
              "      <td>0.84</td>\n",
              "      <td>2000</td>\n",
              "      <td>1024</td>\n",
              "      <td>0.0</td>\n",
              "      <td>32</td>\n",
              "      <td>64</td>\n",
              "    </tr>\n",
              "    <tr>\n",
              "      <th>3</th>\n",
              "      <td>Model 1.B</td>\n",
              "      <td>relu</td>\n",
              "      <td>0.63</td>\n",
              "      <td>0.92</td>\n",
              "      <td>8000</td>\n",
              "      <td>20</td>\n",
              "      <td>0.0</td>\n",
              "      <td>10</td>\n",
              "      <td>20</td>\n",
              "    </tr>\n",
              "    <tr>\n",
              "      <th>4</th>\n",
              "      <td>Model 3.B</td>\n",
              "      <td>tanh</td>\n",
              "      <td>0.67</td>\n",
              "      <td>0.97</td>\n",
              "      <td>8000</td>\n",
              "      <td>1024</td>\n",
              "      <td>0.0</td>\n",
              "      <td>32</td>\n",
              "      <td>64</td>\n",
              "    </tr>\n",
              "    <tr>\n",
              "      <th>5</th>\n",
              "      <td>Model 4.C</td>\n",
              "      <td>tanh</td>\n",
              "      <td>0.70</td>\n",
              "      <td>1.00</td>\n",
              "      <td>8000</td>\n",
              "      <td>300</td>\n",
              "      <td>0.0</td>\n",
              "      <td>32</td>\n",
              "      <td>64</td>\n",
              "    </tr>\n",
              "    <tr>\n",
              "      <th>6</th>\n",
              "      <td>Model 5.C</td>\n",
              "      <td>tanh</td>\n",
              "      <td>0.74</td>\n",
              "      <td>1.00</td>\n",
              "      <td>8000</td>\n",
              "      <td>300</td>\n",
              "      <td>0.4</td>\n",
              "      <td>32</td>\n",
              "      <td>64</td>\n",
              "    </tr>\n",
              "  </tbody>\n",
              "</table>\n",
              "</div>"
            ],
            "text/plain": [
              "       Model Activation  Avg. Testing Acc  Avg. Training Acc  Data Size  \\\n",
              "0  Model 1.A       relu              0.51               0.60       2000   \n",
              "1  Model 2.A       relu              0.55               0.87       2000   \n",
              "2  Model 3.A       tanh              0.61               0.84       2000   \n",
              "3  Model 1.B       relu              0.63               0.92       8000   \n",
              "4  Model 3.B       tanh              0.67               0.97       8000   \n",
              "5  Model 4.C       tanh              0.70               1.00       8000   \n",
              "6  Model 5.C       tanh              0.74               1.00       8000   \n",
              "\n",
              "   FCL Nodes  Keep Probability  Layer1 Filter  Layer2 Filters  \n",
              "0         20               0.0             10              20  \n",
              "1       1024               0.0             32              64  \n",
              "2       1024               0.0             32              64  \n",
              "3         20               0.0             10              20  \n",
              "4       1024               0.0             32              64  \n",
              "5        300               0.0             32              64  \n",
              "6        300               0.4             32              64  "
            ]
          },
          "metadata": {
            "tags": []
          },
          "execution_count": 87
        }
      ]
    },
    {
      "metadata": {
        "id": "LZSccIZMcb9w",
        "colab_type": "text"
      },
      "cell_type": "markdown",
      "source": [
        "**Results**\n",
        "\n",
        "Examining 2,000 images, Model 3.A was able to achieve an average training and testing accuracy of 84% and 61%, respectively. This model used two convolutional layers, two max pooling layers, and the “tanh” activation function (as opposed to the relu activation function). By increasing the convolutional layers from 10 (layer 1) and 20 (layer 2) to 32 (layer 1) and 64 (layer 2), the testing accuracy increased by an average of 5%. Changing the activation function from relu to tanh increased the testing accuracy by an average of 6%. \n",
        "\n",
        "As 8,000 images were introduced, Model Series B tested two of the same models from Model Series A. Both Model 1 and Model 3 saw an average increase in the testing accuracy of 10%. Model 4.C uses the same parameters as Model 3.A and 3.B but adjusts the learning rate from 0.001 to 0.0001. The average testing accuracy increases by 4%. Model 5.C uses the same parameters from Model 4.C but adds dropout to the fully connected layer. A keep probability of 40% is added to the session training, too. Adding the dropout functionality increased the testing accuracy by another 4%. \n",
        "\n",
        "**Recommendation**\n",
        "\n",
        "Using a convolutional neural network (CNN) is highly recommended for image classification because the hierarchal architecture of a CNN is very similar to the structure of real-world images (Geron p. 362). Filter size is an important parameter to test. In this experiment the highest testing accuracy was achieved using two convolutional layers with 32 filters in the first layer and 64 filters in the second layer. Each convolutional layer should use the tanh activation function. This function usually helps speed up the convergence (Geron p. 264), but it also contributed to the highest testing accuracy. To mitigate the risk of overfitting the CNN, using dropout is highly recommended. Model architecture aside, the size of the training data is extremely important. Even the less accurate models had significant improvement from increased sample size alone.\n"
      ]
    }
  ]
}