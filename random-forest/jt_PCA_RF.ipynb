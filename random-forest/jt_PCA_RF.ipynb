{
  "nbformat": 4,
  "nbformat_minor": 0,
  "metadata": {
    "colab": {
      "name": "jt_PCA_RF.ipynb",
      "version": "0.3.2",
      "provenance": [],
      "collapsed_sections": []
    },
    "kernelspec": {
      "name": "python3",
      "display_name": "Python 3"
    }
  },
  "cells": [
    {
      "metadata": {
        "id": "QGHJu9W8v4zv",
        "colab_type": "text"
      },
      "cell_type": "markdown",
      "source": [
        "# **Multi-class Classification using Principal Componenets Analysis and Random Forest **\n",
        "\n",
        "This notebook: https://colab.research.google.com/drive/1Yri9wXf7liMWc8HytVuw-qkJsj_eBxea#scrollTo=gbvwpy-PRE41\n",
        "\n",
        "Random Forest notebook: https://colab.research.google.com/drive/1fseJRlawUt0VAg3SUy_PudBIWU8zv6dC\n",
        "\n",
        "*the Random Forest notebook fits the same Random Forest model as shown here to the same MNIST dataset. The results of the Random Forest notebook are listed in the dataframe at the end of this notebook*"
      ]
    },
    {
      "metadata": {
        "id": "m2VsJwGOvuyZ",
        "colab_type": "code",
        "colab": {}
      },
      "cell_type": "code",
      "source": [
        "!pip install -U -q PyDrive\n",
        "from pydrive.auth import GoogleAuth\n",
        "from pydrive.drive import GoogleDrive\n",
        "from google.colab import auth\n",
        "from oauth2client.client import GoogleCredentials\n",
        "import os\n",
        "import pandas as pd\n",
        "auth.authenticate_user()\n",
        "gauth = GoogleAuth()\n",
        "gauth.credentials = GoogleCredentials.get_application_default()\n",
        "drive = GoogleDrive(gauth)"
      ],
      "execution_count": 0,
      "outputs": []
    },
    {
      "metadata": {
        "id": "tGqa3qiVwOTS",
        "colab_type": "text"
      },
      "cell_type": "markdown",
      "source": [
        "### **This notebook uses the principal components of the MNIST dataset to evaluate the F1 score of a Random Forest Classifier. A time-wrapper function is used to record the execution time for fitting the models to the data, evaluating their predictions, and producing their F1 scores**\n",
        "\n",
        "Using the full data set (70,000 observations), the execution time is recorded for finding the data's dimensions which explain 95% of the varaince.\n",
        "\n",
        "The dimension reductionality is then applied to a train-test split and the models are evaluated.\n",
        "\n",
        "Two model variations are used to compare methods of applying Random Forest to principal components:\n",
        "\n",
        "\n",
        "1.   A PCA & Random Forest pipeline\n",
        "2.   A PCA compression to reduce the features then a decompression of the reduced features. The Random Forest is fit to the decompressed data.\n",
        "\n",
        "The F1 and execution times of these models are compared to the F1 and execution time of fitting just a Random Forest Classifier (found here: [link text](https://https://colab.research.google.com/drive/1fseJRlawUt0VAg3SUy_PudBIWU8zv6dC#scrollTo=hzPjTmUFnayf))\n",
        "\n"
      ]
    },
    {
      "metadata": {
        "id": "P9yg2Ey7vzVt",
        "colab_type": "code",
        "colab": {
          "resources": {
            "http://localhost:8080/nbextensions/google.colab/files.js": {
              "data": "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",
              "ok": true,
              "headers": [
                [
                  "content-type",
                  "application/javascript"
                ]
              ],
              "status": 200,
              "status_text": ""
            }
          },
          "base_uri": "https://localhost:8080/",
          "height": 106
        },
        "outputId": "32bce259-b589-418a-a2bf-e76b4576dddb"
      },
      "cell_type": "code",
      "source": [
        "from google.colab import files\n",
        "uploaded = files.upload()"
      ],
      "execution_count": 2,
      "outputs": [
        {
          "output_type": "display_data",
          "data": {
            "text/html": [
              "\n",
              "     <input type=\"file\" id=\"files-29066232-7e40-4107-9a7a-d6c88bfc0eaa\" name=\"files[]\" multiple disabled />\n",
              "     <output id=\"result-29066232-7e40-4107-9a7a-d6c88bfc0eaa\">\n",
              "      Upload widget is only available when the cell has been executed in the\n",
              "      current browser session. Please rerun this cell to enable.\n",
              "      </output>\n",
              "      <script src=\"/nbextensions/google.colab/files.js\"></script> "
            ],
            "text/plain": [
              "<IPython.core.display.HTML object>"
            ]
          },
          "metadata": {
            "tags": []
          }
        },
        {
          "output_type": "stream",
          "text": [
            "Saving mnist_X.csv to mnist_X (1).csv\n",
            "Saving mnist_y.csv to mnist_y (1).csv\n"
          ],
          "name": "stdout"
        }
      ]
    },
    {
      "metadata": {
        "id": "uig3QNWeGraS",
        "colab_type": "code",
        "colab": {
          "base_uri": "https://localhost:8080/",
          "height": 34
        },
        "outputId": "58dd192d-e19d-4dbf-907b-9d776cde3bac"
      },
      "cell_type": "code",
      "source": [
        "# Package Management\n",
        "import numpy as np\n",
        "import pandas as pd\n",
        "from sklearn.ensemble import RandomForestClassifier\n",
        "from time import time\n",
        "from sklearn.metrics import f1_score\n",
        "from sklearn.decomposition import PCA\n",
        "from sklearn.pipeline import Pipeline\n",
        "from functools import wraps\n",
        "import matplotlib.pyplot as plt\n",
        "import seaborn as sns; sns.set"
      ],
      "execution_count": 2,
      "outputs": [
        {
          "output_type": "execute_result",
          "data": {
            "text/plain": [
              "<function seaborn.rcmod.set>"
            ]
          },
          "metadata": {
            "tags": []
          },
          "execution_count": 2
        }
      ]
    },
    {
      "metadata": {
        "id": "MCKIVs77zUJP",
        "colab_type": "text"
      },
      "cell_type": "markdown",
      "source": [
        "**The 'X' dataset is 70,000 observations of small images of digits written by highschool students. The dataset contains 749 features (columns)**\n",
        "\n",
        "**The 'y' dataset consists of 70,000 images indicating the actual digit**"
      ]
    },
    {
      "metadata": {
        "id": "Dv4mtR5ozZh2",
        "colab_type": "code",
        "colab": {}
      },
      "cell_type": "code",
      "source": [
        "# Set X and y\n",
        "X = pd.read_csv('mnist_X.csv')\n",
        "y = pd.read_csv('mnist_y.csv')"
      ],
      "execution_count": 0,
      "outputs": []
    },
    {
      "metadata": {
        "id": "u1luKXM5z7-G",
        "colab_type": "text"
      },
      "cell_type": "markdown",
      "source": [
        "**Split the original data into train-test splits**"
      ]
    },
    {
      "metadata": {
        "id": "WaPVnKhaz6qx",
        "colab_type": "code",
        "colab": {}
      },
      "cell_type": "code",
      "source": [
        "# train test split\n",
        "X_train, X_test, y_train, y_test = X[:60000], X[60000:], y[:60000], y[60000:]"
      ],
      "execution_count": 0,
      "outputs": []
    },
    {
      "metadata": {
        "id": "R-KtQdX60A4C",
        "colab_type": "text"
      },
      "cell_type": "markdown",
      "source": [
        "**The Random Forest Classifier requires the y_train be converted to an array**"
      ]
    },
    {
      "metadata": {
        "id": "HR7PZiq_0KOj",
        "colab_type": "code",
        "colab": {}
      },
      "cell_type": "code",
      "source": [
        "# convert y_train to an array\n",
        "conv_arr = y_train.values\n",
        "y_train2 = conv_arr.ravel()"
      ],
      "execution_count": 0,
      "outputs": []
    },
    {
      "metadata": {
        "id": "2hO8DOBD0R4n",
        "colab_type": "text"
      },
      "cell_type": "markdown",
      "source": [
        "**This time tracker wraps the function. When the function is executed the exectuion timeis recorded**"
      ]
    },
    {
      "metadata": {
        "id": "NKWfp_2Y0U-2",
        "colab_type": "code",
        "colab": {}
      },
      "cell_type": "code",
      "source": [
        "def simple_time_tracker(log_fun):\n",
        "    def _simple_time_tracker(fn):\n",
        "        @wraps(fn)\n",
        "        def wrapped_fn(*args, **kwargs):\n",
        "            start_time = time()\n",
        "\n",
        "            try:\n",
        "                result = fn(*args, **kwargs)\n",
        "            finally:\n",
        "                elapsed_time = time() - start_time\n",
        "\n",
        "                # log the result\n",
        "                log_fun({\n",
        "                    'function_name': fn.__name__,\n",
        "                    'total_time': elapsed_time,\n",
        "                })\n",
        "                \n",
        "            return result\n",
        "\n",
        "        return wrapped_fn\n",
        "    return _simple_time_tracker\n",
        "\n",
        "\n",
        "def _log(message):\n",
        "    print('[SimpleTimeTracker] {function_name} {total_time:.3f}'.format(**message))\n",
        "    "
      ],
      "execution_count": 0,
      "outputs": []
    },
    {
      "metadata": {
        "id": "J7zIxHbV0giG",
        "colab_type": "text"
      },
      "cell_type": "markdown",
      "source": [
        "The F1 score is the harmonic mean between precision and recall. In multi-class classification this is the average of each class with weighting dependent on the `average` parameter. Setting this parameter to 'weighted' calculates the metrics for each label and finds their average weighted by support (i.e., the number of true instances of each label).\n",
        "\n",
        "$F1 = 2 * (precision * recall)/(precision + recall)$\n",
        "\n",
        "The class_weight parameter in the Random Forest Classifier is required for multi-class/multi-label targets. Setting this parameter to 'balanced' uses the values of y to automatically adjust weights inversely proportional to class frequencies in the input data as: `n_samples / (n_classes * np.bincount(y))`. The weights are computed based on the bootstrap sample for every tree grown."
      ]
    },
    {
      "metadata": {
        "id": "YwUcPhcF0oyL",
        "colab_type": "text"
      },
      "cell_type": "markdown",
      "source": [
        "## **Finding Principal Components**\n",
        "\n",
        "This function determines the dimensions needed to explain 95% of the varaince"
      ]
    },
    {
      "metadata": {
        "id": "-RfSMMup01j0",
        "colab_type": "code",
        "colab": {
          "base_uri": "https://localhost:8080/",
          "height": 51
        },
        "outputId": "b600f5b3-40d3-48b0-8023-d54f1f0c2eff"
      },
      "cell_type": "code",
      "source": [
        "@simple_time_tracker(_log)\n",
        "def find_components(pca):\n",
        "    pca = PCA().fit(X)\n",
        "    cumsum = np.cumsum(pca.explained_variance_ratio_)\n",
        "    d = np.argmax(cumsum >= 0.95) + 1\n",
        "    return d\n",
        "  \n",
        "X_Full_Comp = find_components(X)\n",
        "X_Full_Comp"
      ],
      "execution_count": 7,
      "outputs": [
        {
          "output_type": "stream",
          "text": [
            "[SimpleTimeTracker] find_components 15.692\n"
          ],
          "name": "stdout"
        },
        {
          "output_type": "execute_result",
          "data": {
            "text/plain": [
              "154"
            ]
          },
          "metadata": {
            "tags": []
          },
          "execution_count": 7
        }
      ]
    },
    {
      "metadata": {
        "id": "RWbbKp5x1wOM",
        "colab_type": "text"
      },
      "cell_type": "markdown",
      "source": [
        "154 dimensions are required to explain 95 % of the variance in the data. \n",
        "\n",
        "The graph below plots the explained variance as a function of the number of dimensions. The elbow in the curve shows where the explained variance stops rapdily increasing with the addition of more dimensions."
      ]
    },
    {
      "metadata": {
        "id": "tpiGFRFG4ve5",
        "colab_type": "code",
        "colab": {
          "base_uri": "https://localhost:8080/",
          "height": 378
        },
        "outputId": "9c090632-ff25-4c90-e246-24ad99f5fb02"
      },
      "cell_type": "code",
      "source": [
        "pca_plot = PCA().fit(X)\n",
        "plt.plot(np.cumsum(pca_plot.explained_variance_ratio_))\n",
        "plt.xlabel('Dimensions')\n",
        "plt.ylabel('Explained variance')\n",
        "plt.axvline(x=154, color='r', linestyle='--')\n",
        "plt.axhline(y=0.95, color='r', linestyle='--')"
      ],
      "execution_count": 8,
      "outputs": [
        {
          "output_type": "execute_result",
          "data": {
            "text/plain": [
              "<matplotlib.lines.Line2D at 0x7f4888edee80>"
            ]
          },
          "metadata": {
            "tags": []
          },
          "execution_count": 8
        },
        {
          "output_type": "display_data",
          "data": {
            "image/png": "[encoded data removed]",
            "text/plain": [
              "<matplotlib.figure.Figure at 0x7f4888ede8d0>"
            ]
          },
          "metadata": {
            "tags": []
          }
        }
      ]
    },
    {
      "metadata": {
        "id": "vT6Ut0xo6Npi",
        "colab_type": "text"
      },
      "cell_type": "markdown",
      "source": [
        "## **Applying Random Forest**\n",
        "\n",
        "Each function below fits a Random Forest Classifer, each with the same parameters, to the training set (features and labels) and evaluates the predictive accuracy with an F1 score.\n",
        "\n",
        "The F1 score is the harmonic mean between precision and recall and is preferred for multi-class/multi-label classification problems. In multi-class classification this is the average of each class with weighting dependent on the `average` parameter. Setting this parameter to 'weighted' calculates the metrics for each label and finds their average weighted by support (i.e., the number of true instances of each label).\n",
        "\n",
        "$F1 = 2 * (precision * recall)/(precision + recall)$\n",
        "\n",
        "The `class_weight` parameter in the Random Forest Classifier is required for multi-class/multi-label targets. Setting this parameter to 'balanced' uses the values of y to automatically adjust weights inversely proportional to class frequencies in the input data as: `n_samples / (n_classes * np.bincount(y))`. The weights are computed based on the bootstrap sample for every tree grown"
      ]
    },
    {
      "metadata": {
        "id": "9P5L6n1y4822",
        "colab_type": "text"
      },
      "cell_type": "markdown",
      "source": [
        "## **PCA & Random Forest Pipeline**\n",
        "\n",
        "This function creates a two-step pipeline  which (1) reduces the dimensionality to 154 componenets using PCA and (2) applies a Random Forest Classifier for multi-class classification"
      ]
    },
    {
      "metadata": {
        "id": "4nn2Gb_z7FAH",
        "colab_type": "code",
        "colab": {
          "base_uri": "https://localhost:8080/",
          "height": 51
        },
        "outputId": "949d865d-a7c3-47bb-f01b-fd4c11184608"
      },
      "cell_type": "code",
      "source": [
        "@simple_time_tracker(_log)\n",
        "def PCA_RF_pipe_(X_train,y_train,X_test,y_test):\n",
        "    pipe = Pipeline([('pca', PCA(n_components=154)),\n",
        "                 ('rf', RandomForestClassifier(n_estimators=500,max_leaf_nodes=16, n_jobs=-1,\n",
        "                                               max_features='sqrt', bootstrap=True, \n",
        "                                               class_weight=\"balanced_subsample\"))])\n",
        "    pipe.fit(X_train,y_train)\n",
        "    eval_test = pipe.predict(X_test)\n",
        "    jt = f1_score(y_test, eval_test, average='weighted')\n",
        "    return jt\n",
        "  \n",
        "pipe = PCA_RF_pipe_(X_train,y_train2,X_test,y_test)\n",
        "pipe"
      ],
      "execution_count": 9,
      "outputs": [
        {
          "output_type": "stream",
          "text": [
            "[SimpleTimeTracker] PCA_RF_pipe_ 194.490\n"
          ],
          "name": "stdout"
        },
        {
          "output_type": "execute_result",
          "data": {
            "text/plain": [
              "0.8245560533035341"
            ]
          },
          "metadata": {
            "tags": []
          },
          "execution_count": 9
        }
      ]
    },
    {
      "metadata": {
        "id": "Y37dCr-C7mKH",
        "colab_type": "text"
      },
      "cell_type": "markdown",
      "source": [
        "## **PCA Compression & Reconstruction Error**\n",
        "\n",
        "After applying PCA to the dataset, the training set is easier to process becasue it takes up less space. We saw earlier that 19.6% (154/784) of the features preserve 95% of the variance in the data. The tradeoff to compression is that some of the data is lost. By decompressing the PCA compression, we can fit the same Random Forest Classifier to understand the F1 classification score .\n",
        "\n",
        "The function below compresses the training data using PSA, then decompresses the data and applies Random Forest. "
      ]
    },
    {
      "metadata": {
        "id": "Asi0kt1v-odi",
        "colab_type": "code",
        "colab": {
          "base_uri": "https://localhost:8080/",
          "height": 51
        },
        "outputId": "42ea4b44-8b3c-4fe9-8b47-b065a82c5392"
      },
      "cell_type": "code",
      "source": [
        "@simple_time_tracker(_log)\n",
        "def compress_decompress_RF_fit(X_train,y_train,X_test,y_test):\n",
        "    pca = PCA(n_components=154)\n",
        "    X_reduced = pca.fit_transform(X_train)\n",
        "    X_recovered = pca.inverse_transform(X_reduced)\n",
        "    rnd_clf = RandomForestClassifier(n_estimators=500,max_leaf_nodes=16, n_jobs=-1,\n",
        "                                 max_features='sqrt', bootstrap=True, class_weight=\"balanced_subsample\")\n",
        "    \n",
        "    rnd_clf.fit(X_recovered, y_train)\n",
        "    y_pred_decompression = rnd_clf.predict(X_test)\n",
        "    decompress_f1 = f1_score(y_test, y_pred_decompression, average='weighted')\n",
        "    \n",
        "    return decompress_f1\n",
        "  \n",
        "decompressed = compress_decompress_RF_fit(X_train, y_train2, X_test, y_test)\n",
        "decompressed"
      ],
      "execution_count": 10,
      "outputs": [
        {
          "output_type": "stream",
          "text": [
            "[SimpleTimeTracker] compress_decompress_RF_fit 382.554\n"
          ],
          "name": "stdout"
        },
        {
          "output_type": "execute_result",
          "data": {
            "text/plain": [
              "0.8167210113850047"
            ]
          },
          "metadata": {
            "tags": []
          },
          "execution_count": 10
        }
      ]
    },
    {
      "metadata": {
        "id": "7aEiOP3YOGeU",
        "colab_type": "text"
      },
      "cell_type": "markdown",
      "source": [
        "# **Results**\n",
        "\n",
        "The dataframe below shows the execution time and F1 scores for the three models. As is listed, when compared to Random Forest models with PCA, Random Forest alone is executed much quicker and yields a better F1 score. \n",
        "\n",
        "### **PCA is generally not a good predecessor for Random Forests for a couple reasons:**\n",
        "\n",
        "\n",
        "1.   PCA reduces the number of features. This model had enough observations (70,000) for Random Forests to handle its original features (784) \n",
        "\n",
        "2.   Random Forests do not perform well when the input features are transformations of other features, becuase this makes the individual trees in the forest less            independent of each other. \n",
        "\n",
        "3.   PCA gets rid of multi-collinearity by combining them into a single componenet. This is unecessary because Random Forests deal with collinearity\n",
        "\n"
      ]
    },
    {
      "metadata": {
        "id": "gbvwpy-PRE41",
        "colab_type": "code",
        "colab": {
          "base_uri": "https://localhost:8080/",
          "height": 142
        },
        "outputId": "a14cf8e5-1c9c-4caf-bba7-079023066702"
      },
      "cell_type": "code",
      "source": [
        "from collections import OrderedDict\n",
        "data = OrderedDict([('Model',['Random Forest','PCA & RF Pipe','Decompressed RF']),\n",
        "                    ('Execution Time', [60.87, 194.49, 382.55]),\n",
        "                    ('F1 Score', [0.8415,round(pipe,4),round(decompressed,4)])])\n",
        "df = pd.DataFrame.from_dict(data)\n",
        "df"
      ],
      "execution_count": 15,
      "outputs": [
        {
          "output_type": "execute_result",
          "data": {
            "text/html": [
              "<div>\n",
              "<style scoped>\n",
              "    .dataframe tbody tr th:only-of-type {\n",
              "        vertical-align: middle;\n",
              "    }\n",
              "\n",
              "    .dataframe tbody tr th {\n",
              "        vertical-align: top;\n",
              "    }\n",
              "\n",
              "    .dataframe thead th {\n",
              "        text-align: right;\n",
              "    }\n",
              "</style>\n",
              "<table border=\"1\" class=\"dataframe\">\n",
              "  <thead>\n",
              "    <tr style=\"text-align: right;\">\n",
              "      <th></th>\n",
              "      <th>Model</th>\n",
              "      <th>Execution Time</th>\n",
              "      <th>F1 Score</th>\n",
              "    </tr>\n",
              "  </thead>\n",
              "  <tbody>\n",
              "    <tr>\n",
              "      <th>0</th>\n",
              "      <td>Random Forest</td>\n",
              "      <td>60.87</td>\n",
              "      <td>0.8415</td>\n",
              "    </tr>\n",
              "    <tr>\n",
              "      <th>1</th>\n",
              "      <td>PCA &amp; RF Pipe</td>\n",
              "      <td>194.49</td>\n",
              "      <td>0.8246</td>\n",
              "    </tr>\n",
              "    <tr>\n",
              "      <th>2</th>\n",
              "      <td>Decompressed RF</td>\n",
              "      <td>382.55</td>\n",
              "      <td>0.8167</td>\n",
              "    </tr>\n",
              "  </tbody>\n",
              "</table>\n",
              "</div>"
            ],
            "text/plain": [
              "             Model  Execution Time  F1 Score\n",
              "0    Random Forest           60.87    0.8415\n",
              "1    PCA & RF Pipe          194.49    0.8246\n",
              "2  Decompressed RF          382.55    0.8167"
            ]
          },
          "metadata": {
            "tags": []
          },
          "execution_count": 15
        }
      ]
    }
  ]
}